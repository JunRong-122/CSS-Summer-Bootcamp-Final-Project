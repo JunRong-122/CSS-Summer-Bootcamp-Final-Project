{
 "cells": [
  {
   "cell_type": "markdown",
   "id": "252fb154-a69a-48c2-b12f-df54266a0abe",
   "metadata": {},
   "source": [
    "2025 CSS Summer Bootcamp Final Project\n",
    "Jun-Rong Huang"
   ]
  },
  {
   "cell_type": "markdown",
   "id": "3b2abb54-bf13-46bb-b78d-86c6d046568a",
   "metadata": {},
   "source": [
    "Loading the relevant packages"
   ]
  },
  {
   "cell_type": "code",
   "execution_count": 1,
   "id": "22def12b-516b-4909-9789-2a16a2c0a650",
   "metadata": {},
   "outputs": [],
   "source": [
    "import pandas as pd\n",
    "import numpy as np\n",
    "\n",
    "# Plotting things:\n",
    "import seaborn as sns\n",
    "import matplotlib.pyplot as plt\n",
    "\n",
    "# Some statsmodels to deal with GAMs\n",
    "import statsmodels.api as sm\n",
    "from statsmodels.gam.api import GLMGam, BSplines\n",
    "\n",
    "from statsmodels.formula.api import ols\n",
    "from statsmodels.formula.api import logit\n",
    "from statsmodels.stats.anova import anova_lm\n",
    "from statsmodels.stats.outliers_influence import variance_inflation_factor"
   ]
  },
  {
   "cell_type": "code",
   "execution_count": 2,
   "id": "a730b3a3-f2dd-48d4-944b-3a267bc3271c",
   "metadata": {},
   "outputs": [],
   "source": [
    "# Scikit Learn\n",
    "from sklearn.linear_model import LogisticRegression, LinearRegression, Ridge, Lasso\n",
    "from sklearn.naive_bayes import GaussianNB\n",
    "from sklearn.discriminant_analysis import LinearDiscriminantAnalysis, QuadraticDiscriminantAnalysis\n",
    "from sklearn.metrics import confusion_matrix, classification_report, precision_score, get_scorer_names, mean_squared_error, r2_score, mean_squared_error, roc_auc_score, ConfusionMatrixDisplay, accuracy_score\n",
    "from sklearn.model_selection import train_test_split, LeaveOneOut, cross_val_score, KFold, GridSearchCV\n",
    "from sklearn.inspection import DecisionBoundaryDisplay\n",
    "from sklearn.tree import DecisionTreeRegressor, DecisionTreeClassifier, plot_tree, export_text\n",
    "from sklearn.neighbors import KNeighborsClassifier\n",
    "from sklearn.preprocessing import StandardScaler, PolynomialFeatures, SplineTransformer\n",
    "from sklearn.feature_selection import SequentialFeatureSelector\n",
    "from sklearn.ensemble import VotingClassifier, BaggingRegressor, BaggingClassifier, RandomForestRegressor, RandomForestClassifier, AdaBoostClassifier, AdaBoostRegressor, GradientBoostingRegressor, GradientBoostingClassifier\n",
    "from sklearn.svm import LinearSVC, SVC"
   ]
  },
  {
   "cell_type": "markdown",
   "id": "59a5fd3f-5cdc-4604-a594-7552b1561eb5",
   "metadata": {},
   "source": [
    "Load data"
   ]
  },
  {
   "cell_type": "code",
   "execution_count": 3,
   "id": "aeab514e-ae4f-4d1f-98df-22c0fd97e2c0",
   "metadata": {},
   "outputs": [],
   "source": [
    "dt_raw = pd.read_csv(\"RHS_data_2022.csv\", low_memory=False)"
   ]
  },
  {
   "cell_type": "code",
   "execution_count": 4,
   "id": "f415ef2e-0a28-419c-93d1-337d874928ae",
   "metadata": {},
   "outputs": [
    {
     "data": {
      "text/plain": [
       "(15856, 7062)"
      ]
     },
     "execution_count": 4,
     "metadata": {},
     "output_type": "execute_result"
    }
   ],
   "source": [
    "dt_raw.shape"
   ]
  },
  {
   "cell_type": "markdown",
   "id": "13377bcf-c777-4f57-b4ad-fcf0105be088",
   "metadata": {},
   "source": [
    "Filter"
   ]
  },
  {
   "cell_type": "code",
   "execution_count": 5,
   "id": "a6276b44-639b-497e-ac45-810cd4cdfe0b",
   "metadata": {},
   "outputs": [
    {
     "data": {
      "text/plain": [
       "(8515, 7062)"
      ]
     },
     "execution_count": 5,
     "metadata": {},
     "output_type": "execute_result"
    }
   ],
   "source": [
    "#self interview\n",
    "dt_analyze = dt_raw[dt_raw[\"SA009\"] == 1]\n",
    "\n",
    "#age > 65\n",
    "dt_analyze = dt_analyze[dt_analyze[\"SA019\"] > 64]\n",
    "\n",
    "dt_analyze.shape"
   ]
  },
  {
   "cell_type": "markdown",
   "id": "c135e2d7-7ad2-4e06-8a56-337e17cf3826",
   "metadata": {},
   "source": [
    "Select variables"
   ]
  },
  {
   "cell_type": "code",
   "execution_count": 6,
   "id": "069c80df-32bd-4b48-bd4b-e064d316b109",
   "metadata": {},
   "outputs": [],
   "source": [
    "dt_linear_reg_lon = dt_analyze[[\"SA019\", \"SX060_R\", \"SZ216\", \"SZ080\", \"SD110\", \"SJ005M1\", \"SC001\",\n",
    "                                \"SC271\", \"SC150\", \n",
    "                                \"SG014\", \"SG016\", \"SG021\", \"SG023\", \"SG025\", \"SG030\", \n",
    "                                \"SG041\", \"SG044\", \"SG047\", \"SG050\", \"SG058\", \"SG059\", \n",
    "                                \"SLB018A\", \"SLB018B\", \"SLB018C\", \"SLB018D\", \"SLB018E\",\n",
    "                                \"SLB028A\",\n",
    "                                \"SLB029A\", \"SLB029B\", \"SLB029C\", \"SLB029D\", \"SLB029E\", \"SLB029F\",\n",
    "                                \"SLB035C1\", \"SLB035C2\", \"SLB035C3\", \"SLB035C4\", \"SLB035C5\",\n",
    "                                \"SH002\", \"SH004\",\n",
    "                                \"SLB001C\", \"SLB001F\", \"SLB001S\", \"SLB001T\",\n",
    "                                \"SLB020A\", \"SLB020B\", \"SLB020C\", \"SLB020D\", \"SLB020E\", \"SLB020F\", \"SLB020G\", \"SLB020H\",\n",
    "                                \"SLB019A\", \"SLB019B\", \"SLB019C\", \"SLB019D\", \"SLB019E\", \"SLB019F\", \"SLB019G\", \"SLB019H\", \"SLB019I\", \"SLB019J\", \"SLB019K\",\n",
    "                                \"SLB028B1\", \"SLB028B2\", \"SLB028B3\", \"SLB028B4\", \"SLB028B5\", \"SLB028B6\", \"SLB028B7\", \"SLB028B8\"\n",
    "]]"
   ]
  },
  {
   "cell_type": "code",
   "execution_count": 7,
   "id": "eaf4e9f5-7588-45fc-aa94-b84837404ed2",
   "metadata": {},
   "outputs": [
    {
     "data": {
      "text/plain": [
       "(8515, 71)"
      ]
     },
     "execution_count": 7,
     "metadata": {},
     "output_type": "execute_result"
    }
   ],
   "source": [
    "dt_linear_reg_lon.shape"
   ]
  },
  {
   "cell_type": "markdown",
   "id": "93b6363b-e6da-4b0d-ace1-9c8814eb7edd",
   "metadata": {},
   "source": [
    "Rename"
   ]
  },
  {
   "cell_type": "code",
   "execution_count": 8,
   "id": "c84bcccc-1714-4efd-aa91-d9e276bc69a2",
   "metadata": {},
   "outputs": [],
   "source": [
    "new_names = {\n",
    "    \"SA019\": \"Age\",\n",
    "    \"SX060_R\": \"Gender\",\n",
    "    \"SZ216\": \"Edu_years\",\n",
    "    \"SZ080\": \"Mar_status\",\n",
    "    \"SJ005M1\": \"Job_status\",\n",
    "    \"SC001\": \"Rate_health\",\n",
    "    \"SH002\": \"Type_Home\",\n",
    "    \"SH004\": \"Own_Rent_Home\",\n",
    "    \n",
    "    \"SD110\": \"Depressed_prev_w\",\n",
    "    \"SC271\": \"Ever_had_depression\",\n",
    "    \"SC150\": \"Depressed_past_y\",\n",
    "\n",
    "    \"SLB019A\": \"Loneliness1\",\n",
    "    \"SLB019B\": \"Loneliness2\",\n",
    "    \"SLB019C\": \"Loneliness3\",\n",
    "    \"SLB019D\": \"Loneliness4\",\n",
    "    \"SLB019E\": \"Loneliness5\",\n",
    "    \"SLB019F\": \"Loneliness6\",\n",
    "    \"SLB019G\": \"Loneliness7\",\n",
    "    \"SLB019H\": \"Loneliness8\",\n",
    "    \"SLB019I\": \"Loneliness9\",\n",
    "    \"SLB019J\": \"Loneliness10\",\n",
    "    \"SLB019K\": \"Loneliness11\",\n",
    "\n",
    "    \"SG014\": \"ADL - DRESSING\",\n",
    "    \"SG016\": \"ADL - WALKING\",\n",
    "    \"SG021\": \"ADL - BATHING\",\n",
    "    \"SG023\": \"ADL - EATING\",\n",
    "    \"SG025\": \"ADL - GET IN-OUT BED\",\n",
    "    \"SG030\": \"ADL - USING TOILET\",\n",
    "\n",
    "    \"SG041\": \"IADL - MEAL PREPARATION\",\n",
    "    \"SG044\": \"IADL - GROC SHOP\",\n",
    "    \"SG047\": \"IADL - MAKING PHONE CALLS\",\n",
    "    \"SG050\": \"IADL - TAKING MEDICATION\",\n",
    "    \"SG058\": \"IADL - HOUSE-YARD WORK\",\n",
    "    \"SG059\": \"IADL - MANAGING MONEY\",\n",
    "\n",
    "    \"SLB018A\": \"DISTRUST - HELP OTHERS\",\n",
    "    \"SLB018B\": \"DISTRUST - UNFAIR MEANS TO GAIN\",\n",
    "    \"SLB018C\": \"DISTRUST - NO ONE CARES\",\n",
    "    \"SLB018D\": \"DISTRUST - LIE IN ORDER TO GET AHEAD\",\n",
    "    \"SLB018E\": \"DISTRUST - HIDDEN REASONS\",\n",
    "\n",
    "    \"SLB028A\": \"Subjective_age\",\n",
    "\n",
    "    \"SLB029A\": \"AGEISM1\",\n",
    "    \"SLB029B\": \"AGEISM2\",\n",
    "    \"SLB029C\": \"AGEISM3\",\n",
    "    \"SLB029D\": \"AGEISM4\",\n",
    "    \"SLB029E\": \"AGEISM5\",\n",
    "    \"SLB029F\": \"AGEISM6\",\n",
    "\n",
    "    \"SLB020A\": \"community1\",\n",
    "    \"SLB020B\": \"community2\",\n",
    "    \"SLB020C\": \"community3\",\n",
    "    \"SLB020D\": \"community4\",\n",
    "    \"SLB020E\": \"community5\",\n",
    "    \"SLB020F\": \"community6\",\n",
    "    \"SLB020G\": \"community7\",\n",
    "    \"SLB020H\": \"community8\",\n",
    "\n",
    "    \"SLB035C1\": \"WORRY1\",\n",
    "    \"SLB035C2\": \"WORRY2\",\n",
    "    \"SLB035C3\": \"WORRY3\",\n",
    "    \"SLB035C4\": \"WORRY4\",\n",
    "    \"SLB035C5\": \"WORRY5\",\n",
    "\n",
    "    \"SLB028B1\": \"Attitude1\",\n",
    "    \"SLB028B2\": \"Attitude2\",\n",
    "    \"SLB028B3\": \"Attitude3\",\n",
    "    \"SLB028B4\": \"Attitude4\",\n",
    "    \"SLB028B5\": \"Attitude5\",\n",
    "    \"SLB028B6\": \"Attitude6\",\n",
    "    \"SLB028B7\": \"Attitude7\",\n",
    "    \"SLB028B8\": \"Attitude8\",\n",
    "\n",
    "    \"SLB001C\": \"Volunteer\",\n",
    "    \"SLB001F\": \"Attend_Club\",\n",
    "    \"SLB001S\": \"Sport_Exercise\",\n",
    "    \"SLB001T\": \"WALK_20M\"\n",
    "}"
   ]
  },
  {
   "cell_type": "code",
   "execution_count": 9,
   "id": "618570e8-d713-43ca-b620-c4f7b0952015",
   "metadata": {},
   "outputs": [
    {
     "data": {
      "text/html": [
       "<div>\n",
       "<style scoped>\n",
       "    .dataframe tbody tr th:only-of-type {\n",
       "        vertical-align: middle;\n",
       "    }\n",
       "\n",
       "    .dataframe tbody tr th {\n",
       "        vertical-align: top;\n",
       "    }\n",
       "\n",
       "    .dataframe thead th {\n",
       "        text-align: right;\n",
       "    }\n",
       "</style>\n",
       "<table border=\"1\" class=\"dataframe\">\n",
       "  <thead>\n",
       "    <tr style=\"text-align: right;\">\n",
       "      <th></th>\n",
       "      <th>Age</th>\n",
       "      <th>Gender</th>\n",
       "      <th>Edu_years</th>\n",
       "      <th>Mar_status</th>\n",
       "      <th>Depressed_prev_w</th>\n",
       "      <th>Job_status</th>\n",
       "      <th>Rate_health</th>\n",
       "      <th>Ever_had_depression</th>\n",
       "      <th>Depressed_past_y</th>\n",
       "      <th>ADL - DRESSING</th>\n",
       "      <th>...</th>\n",
       "      <th>Loneliness10</th>\n",
       "      <th>Loneliness11</th>\n",
       "      <th>Attitude1</th>\n",
       "      <th>Attitude2</th>\n",
       "      <th>Attitude3</th>\n",
       "      <th>Attitude4</th>\n",
       "      <th>Attitude5</th>\n",
       "      <th>Attitude6</th>\n",
       "      <th>Attitude7</th>\n",
       "      <th>Attitude8</th>\n",
       "    </tr>\n",
       "  </thead>\n",
       "  <tbody>\n",
       "    <tr>\n",
       "      <th>0</th>\n",
       "      <td>83</td>\n",
       "      <td>1</td>\n",
       "      <td>12</td>\n",
       "      <td>6</td>\n",
       "      <td>5</td>\n",
       "      <td>5</td>\n",
       "      <td>2</td>\n",
       "      <td>5</td>\n",
       "      <td>5</td>\n",
       "      <td>5</td>\n",
       "      <td>...</td>\n",
       "      <td></td>\n",
       "      <td></td>\n",
       "      <td></td>\n",
       "      <td></td>\n",
       "      <td></td>\n",
       "      <td></td>\n",
       "      <td></td>\n",
       "      <td></td>\n",
       "      <td></td>\n",
       "      <td></td>\n",
       "    </tr>\n",
       "    <tr>\n",
       "      <th>1</th>\n",
       "      <td>66</td>\n",
       "      <td>2</td>\n",
       "      <td>16</td>\n",
       "      <td>5</td>\n",
       "      <td>5</td>\n",
       "      <td>2</td>\n",
       "      <td>3</td>\n",
       "      <td>1</td>\n",
       "      <td>5</td>\n",
       "      <td>5</td>\n",
       "      <td>...</td>\n",
       "      <td>1</td>\n",
       "      <td>1</td>\n",
       "      <td>1</td>\n",
       "      <td>1</td>\n",
       "      <td>1</td>\n",
       "      <td>1</td>\n",
       "      <td>1</td>\n",
       "      <td>1</td>\n",
       "      <td>1</td>\n",
       "      <td>1</td>\n",
       "    </tr>\n",
       "    <tr>\n",
       "      <th>2</th>\n",
       "      <td>77</td>\n",
       "      <td>2</td>\n",
       "      <td>12</td>\n",
       "      <td>5</td>\n",
       "      <td>5</td>\n",
       "      <td>5</td>\n",
       "      <td>3</td>\n",
       "      <td>5</td>\n",
       "      <td>5</td>\n",
       "      <td></td>\n",
       "      <td>...</td>\n",
       "      <td></td>\n",
       "      <td></td>\n",
       "      <td></td>\n",
       "      <td></td>\n",
       "      <td></td>\n",
       "      <td></td>\n",
       "      <td></td>\n",
       "      <td></td>\n",
       "      <td></td>\n",
       "      <td></td>\n",
       "    </tr>\n",
       "    <tr>\n",
       "      <th>3</th>\n",
       "      <td>74</td>\n",
       "      <td>2</td>\n",
       "      <td>13</td>\n",
       "      <td>4</td>\n",
       "      <td>5</td>\n",
       "      <td>5</td>\n",
       "      <td>3</td>\n",
       "      <td>5</td>\n",
       "      <td>1</td>\n",
       "      <td>5</td>\n",
       "      <td>...</td>\n",
       "      <td></td>\n",
       "      <td></td>\n",
       "      <td></td>\n",
       "      <td></td>\n",
       "      <td></td>\n",
       "      <td></td>\n",
       "      <td></td>\n",
       "      <td></td>\n",
       "      <td></td>\n",
       "      <td></td>\n",
       "    </tr>\n",
       "    <tr>\n",
       "      <th>4</th>\n",
       "      <td>85</td>\n",
       "      <td>1</td>\n",
       "      <td>16</td>\n",
       "      <td>1</td>\n",
       "      <td>5</td>\n",
       "      <td>5</td>\n",
       "      <td>2</td>\n",
       "      <td>5</td>\n",
       "      <td>5</td>\n",
       "      <td></td>\n",
       "      <td>...</td>\n",
       "      <td>1</td>\n",
       "      <td>1</td>\n",
       "      <td>4</td>\n",
       "      <td>4</td>\n",
       "      <td>2</td>\n",
       "      <td>3</td>\n",
       "      <td>4</td>\n",
       "      <td>4</td>\n",
       "      <td>2</td>\n",
       "      <td>5</td>\n",
       "    </tr>\n",
       "  </tbody>\n",
       "</table>\n",
       "<p>5 rows × 71 columns</p>\n",
       "</div>"
      ],
      "text/plain": [
       "   Age Gender Edu_years Mar_status Depressed_prev_w Job_status  Rate_health  \\\n",
       "0   83      1        12          6                5          5            2   \n",
       "1   66      2        16          5                5          2            3   \n",
       "2   77      2        12          5                5          5            3   \n",
       "3   74      2        13          4                5          5            3   \n",
       "4   85      1        16          1                5          5            2   \n",
       "\n",
       "  Ever_had_depression Depressed_past_y ADL - DRESSING  ... Loneliness10  \\\n",
       "0                   5                5              5  ...                \n",
       "1                   1                5              5  ...            1   \n",
       "2                   5                5                 ...                \n",
       "3                   5                1              5  ...                \n",
       "4                   5                5                 ...            1   \n",
       "\n",
       "  Loneliness11 Attitude1 Attitude2 Attitude3 Attitude4 Attitude5 Attitude6  \\\n",
       "0                                                                            \n",
       "1            1         1         1         1         1         1         1   \n",
       "2                                                                            \n",
       "3                                                                            \n",
       "4            1         4         4         2         3         4         4   \n",
       "\n",
       "  Attitude7 Attitude8  \n",
       "0                      \n",
       "1         1         1  \n",
       "2                      \n",
       "3                      \n",
       "4         2         5  \n",
       "\n",
       "[5 rows x 71 columns]"
      ]
     },
     "execution_count": 9,
     "metadata": {},
     "output_type": "execute_result"
    }
   ],
   "source": [
    "dt_linear_reg_lon = dt_linear_reg_lon.rename(columns = new_names)\n",
    "dt_linear_reg_lon.head()"
   ]
  },
  {
   "cell_type": "markdown",
   "id": "41683b14-528d-49f4-835c-eaeefc2d18cf",
   "metadata": {},
   "source": [
    "Remove NA"
   ]
  },
  {
   "cell_type": "code",
   "execution_count": 10,
   "id": "660b950b-9612-408f-8e37-42813175a31d",
   "metadata": {},
   "outputs": [
    {
     "name": "stdout",
     "output_type": "stream",
     "text": [
      "Age                                     0\n",
      "Gender                                  0\n",
      "Edu_years                               0\n",
      "Mar_status                              0\n",
      "Depressed_prev_w                        0\n",
      "Job_status                              0\n",
      "Rate_health                             0\n",
      "Ever_had_depression                     0\n",
      "Depressed_past_y                        0\n",
      "ADL - DRESSING                          0\n",
      "ADL - WALKING                           0\n",
      "ADL - BATHING                           0\n",
      "ADL - EATING                            0\n",
      "ADL - GET IN-OUT BED                    0\n",
      "ADL - USING TOILET                      0\n",
      "IADL - MEAL PREPARATION                 0\n",
      "IADL - GROC SHOP                        0\n",
      "IADL - MAKING PHONE CALLS               0\n",
      "IADL - TAKING MEDICATION                0\n",
      "IADL - HOUSE-YARD WORK                  0\n",
      "IADL - MANAGING MONEY                   0\n",
      "DISTRUST - HELP OTHERS                  0\n",
      "DISTRUST - UNFAIR MEANS TO GAIN         0\n",
      "DISTRUST - NO ONE CARES                 0\n",
      "DISTRUST - LIE IN ORDER TO GET AHEAD    0\n",
      "DISTRUST - HIDDEN REASONS               0\n",
      "Subjective_age                          0\n",
      "AGEISM1                                 0\n",
      "AGEISM2                                 0\n",
      "AGEISM3                                 0\n",
      "AGEISM4                                 0\n",
      "AGEISM5                                 0\n",
      "AGEISM6                                 0\n",
      "WORRY1                                  0\n",
      "WORRY2                                  0\n",
      "WORRY3                                  0\n",
      "WORRY4                                  0\n",
      "WORRY5                                  0\n",
      "Type_Home                               0\n",
      "Own_Rent_Home                           0\n",
      "Volunteer                               0\n",
      "Attend_Club                             0\n",
      "Sport_Exercise                          0\n",
      "WALK_20M                                0\n",
      "community1                              0\n",
      "community2                              0\n",
      "community3                              0\n",
      "community4                              0\n",
      "community5                              0\n",
      "community6                              0\n",
      "community7                              0\n",
      "community8                              0\n",
      "Loneliness1                             0\n",
      "Loneliness2                             0\n",
      "Loneliness3                             0\n",
      "Loneliness4                             0\n",
      "Loneliness5                             0\n",
      "Loneliness6                             0\n",
      "Loneliness7                             0\n",
      "Loneliness8                             0\n",
      "Loneliness9                             0\n",
      "Loneliness10                            0\n",
      "Loneliness11                            0\n",
      "Attitude1                               0\n",
      "Attitude2                               0\n",
      "Attitude3                               0\n",
      "Attitude4                               0\n",
      "Attitude5                               0\n",
      "Attitude6                               0\n",
      "Attitude7                               0\n",
      "Attitude8                               0\n"
     ]
    }
   ],
   "source": [
    "dt_linear_reg_lon = dt_linear_reg_lon.replace(r'^\\s*$', np.nan, regex=True)\n",
    "dt_linear_reg_lon = dt_linear_reg_lon.dropna()\n",
    "dt_linear_reg_lon.shape\n",
    "print(dt_linear_reg_lon.isna().sum().to_string())"
   ]
  },
  {
   "cell_type": "code",
   "execution_count": 11,
   "id": "3e75ae7a-fdb0-4977-a801-41c17a2e3066",
   "metadata": {},
   "outputs": [
    {
     "data": {
      "text/plain": [
       "(947, 71)"
      ]
     },
     "execution_count": 11,
     "metadata": {},
     "output_type": "execute_result"
    }
   ],
   "source": [
    "dt_linear_reg_lon.shape"
   ]
  },
  {
   "cell_type": "markdown",
   "id": "353ea4e4-5a7c-42f1-b539-692f2526c637",
   "metadata": {},
   "source": [
    "Change dt type"
   ]
  },
  {
   "cell_type": "code",
   "execution_count": 12,
   "id": "466628eb-394d-4c10-ad9e-2dcc9b98a761",
   "metadata": {},
   "outputs": [],
   "source": [
    "dt_linear_reg_lon = dt_linear_reg_lon.apply(pd.to_numeric, errors=\"coerce\")\n",
    "dt_linear_reg_lon = dt_linear_reg_lon.astype(\"Int64\")"
   ]
  },
  {
   "cell_type": "markdown",
   "id": "bda9b120-dbaa-471f-9cf5-a40799e8642e",
   "metadata": {},
   "source": [
    "Recode & Descriptive analysis"
   ]
  },
  {
   "cell_type": "code",
   "execution_count": 13,
   "id": "5020cd63-98ce-4ae4-b4fd-25ec2bc24bfa",
   "metadata": {},
   "outputs": [
    {
     "name": "stdout",
     "output_type": "stream",
     "text": [
      "count        947.0\n",
      "mean     76.029567\n",
      "std       7.491163\n",
      "min           65.0\n",
      "25%           70.0\n",
      "50%           75.0\n",
      "75%           82.0\n",
      "max          101.0\n",
      "Name: Age, dtype: Float64\n"
     ]
    }
   ],
   "source": [
    "print(dt_linear_reg_lon[\"Age\"].describe())"
   ]
  },
  {
   "cell_type": "code",
   "execution_count": 14,
   "id": "44c4621c-06f2-4942-9247-14c1eb5bf56e",
   "metadata": {},
   "outputs": [
    {
     "name": "stdout",
     "output_type": "stream",
     "text": [
      "Gender\n",
      "0    585\n",
      "1    362\n",
      "Name: count, dtype: int64\n"
     ]
    }
   ],
   "source": [
    "dt_linear_reg_lon[\"Gender\"] = dt_linear_reg_lon[\"Gender\"].map({1: 1, 2: 0})\n",
    "dt_linear_reg_lon[\"Gender\"] = dt_linear_reg_lon[\"Gender\"].astype(\"category\")\n",
    "print(dt_linear_reg_lon[\"Gender\"].value_counts())"
   ]
  },
  {
   "cell_type": "code",
   "execution_count": 15,
   "id": "b45494c1-e3c5-4682-9d57-7ac0f12337f3",
   "metadata": {},
   "outputs": [
    {
     "name": "stdout",
     "output_type": "stream",
     "text": [
      "count        947.0\n",
      "mean     13.041183\n",
      "std       3.039451\n",
      "min            0.0\n",
      "25%           12.0\n",
      "50%           13.0\n",
      "75%           16.0\n",
      "max           17.0\n",
      "Name: Edu_years, dtype: Float64\n"
     ]
    }
   ],
   "source": [
    "print(dt_linear_reg_lon[\"Edu_years\"].describe())"
   ]
  },
  {
   "cell_type": "code",
   "execution_count": 16,
   "id": "d14acd9f-d4eb-44d3-8c0d-ecdf2e9c6cf8",
   "metadata": {},
   "outputs": [
    {
     "name": "stdout",
     "output_type": "stream",
     "text": [
      "Mar_status\n",
      "1    523\n",
      "0    424\n",
      "Name: count, dtype: int64\n"
     ]
    }
   ],
   "source": [
    "dt_linear_reg_lon[\"Mar_status\"] = dt_linear_reg_lon[\"Mar_status\"].map({1: 1, 2: 1, 3: 1, 0: 0, 4: 0, 5: 0, 6: 0})\n",
    "dt_linear_reg_lon[\"Mar_status\"] = dt_linear_reg_lon[\"Mar_status\"].astype(\"category\")\n",
    "print(dt_linear_reg_lon[\"Mar_status\"].value_counts())"
   ]
  },
  {
   "cell_type": "code",
   "execution_count": 17,
   "id": "3bd3a0ad-14b6-4c1f-8968-9a90e8d546ce",
   "metadata": {},
   "outputs": [
    {
     "name": "stdout",
     "output_type": "stream",
     "text": [
      "Job_status\n",
      "0    849\n",
      "1     98\n",
      "Name: count, dtype: int64\n"
     ]
    }
   ],
   "source": [
    "dt_linear_reg_lon[\"Job_status\"] = dt_linear_reg_lon[\"Job_status\"].map({1: 1, 5: 0, 4: 0, 6: 0, 7: 0, 2: 0, 98: 0, 3: 0})\n",
    "dt_linear_reg_lon[\"Job_status\"] = dt_linear_reg_lon[\"Job_status\"].astype(\"category\")\n",
    "print(dt_linear_reg_lon[\"Job_status\"].value_counts())"
   ]
  },
  {
   "cell_type": "code",
   "execution_count": 18,
   "id": "67f29795-c5d8-4e57-a71f-088cdd33b169",
   "metadata": {},
   "outputs": [
    {
     "name": "stdout",
     "output_type": "stream",
     "text": [
      "count       947.0\n",
      "mean     2.791975\n",
      "std      0.940075\n",
      "min           1.0\n",
      "25%           2.0\n",
      "50%           3.0\n",
      "75%           3.0\n",
      "max           5.0\n",
      "Name: Rate_health, dtype: Float64\n"
     ]
    }
   ],
   "source": [
    "dt_linear_reg_lon[\"Rate_health\"] = 6 - dt_linear_reg_lon[\"Rate_health\"]\n",
    "print(dt_linear_reg_lon[\"Rate_health\"].describe())"
   ]
  },
  {
   "cell_type": "code",
   "execution_count": 19,
   "id": "c8dfd3eb-8e4b-404b-b2b7-0629b74b2317",
   "metadata": {},
   "outputs": [
    {
     "name": "stdout",
     "output_type": "stream",
     "text": [
      "Depressed_prev_w\n",
      "0    795\n",
      "1    152\n",
      "Name: count, dtype: int64\n"
     ]
    }
   ],
   "source": [
    "dt_linear_reg_lon[\"Depressed_prev_w\"] = dt_linear_reg_lon[\"Depressed_prev_w\"].map({1: 1, 5: 0})\n",
    "dt_linear_reg_lon[\"Depressed_prev_w\"] = dt_linear_reg_lon[\"Depressed_prev_w\"].astype(\"category\")\n",
    "print(dt_linear_reg_lon[\"Depressed_prev_w\"].value_counts())"
   ]
  },
  {
   "cell_type": "code",
   "execution_count": 20,
   "id": "df924560-c3e7-44c5-a204-e630667b79e9",
   "metadata": {},
   "outputs": [
    {
     "name": "stdout",
     "output_type": "stream",
     "text": [
      "Ever_had_depression\n",
      "0    688\n",
      "1    259\n",
      "Name: count, dtype: int64\n"
     ]
    }
   ],
   "source": [
    "dt_linear_reg_lon[\"Ever_had_depression\"] = dt_linear_reg_lon[\"Ever_had_depression\"].map({1: 1, 5: 0, 6: 0, 4: 0})\n",
    "dt_linear_reg_lon[\"Ever_had_depression\"] = dt_linear_reg_lon[\"Ever_had_depression\"].astype(\"category\")\n",
    "print(dt_linear_reg_lon[\"Ever_had_depression\"].value_counts())"
   ]
  },
  {
   "cell_type": "code",
   "execution_count": 21,
   "id": "3ea9a73c-c2bb-4afb-817b-f6e53eed594e",
   "metadata": {},
   "outputs": [
    {
     "name": "stdout",
     "output_type": "stream",
     "text": [
      "Depressed_past_y\n",
      "0    739\n",
      "1    208\n",
      "Name: count, dtype: int64\n"
     ]
    }
   ],
   "source": [
    "dt_linear_reg_lon[\"Depressed_past_y\"] = dt_linear_reg_lon[\"Depressed_past_y\"].map({1: 1, 5: 0, 8: 0, 3: 0})\n",
    "dt_linear_reg_lon[\"Depressed_past_y\"] = dt_linear_reg_lon[\"Depressed_past_y\"].astype(\"category\")\n",
    "print(dt_linear_reg_lon[\"Depressed_past_y\"].value_counts())"
   ]
  },
  {
   "cell_type": "code",
   "execution_count": 22,
   "id": "36322fc3-54be-4d90-8a91-04103abf6a5f",
   "metadata": {},
   "outputs": [
    {
     "data": {
      "text/plain": [
       "count       947.0\n",
       "mean     1.573198\n",
       "std      0.450751\n",
       "min           1.0\n",
       "25%      1.181818\n",
       "50%      1.454545\n",
       "75%      1.909091\n",
       "max      2.909091\n",
       "Name: Loneliness, dtype: Float64"
      ]
     },
     "execution_count": 22,
     "metadata": {},
     "output_type": "execute_result"
    }
   ],
   "source": [
    "dt_linear_reg_lon[\"Loneliness1\"] = 4 - dt_linear_reg_lon[\"Loneliness1\"]\n",
    "dt_linear_reg_lon[\"Loneliness2\"] = 4 - dt_linear_reg_lon[\"Loneliness2\"]\n",
    "dt_linear_reg_lon[\"Loneliness3\"] = 4 - dt_linear_reg_lon[\"Loneliness3\"]\n",
    "dt_linear_reg_lon[\"Loneliness5\"] = 4 - dt_linear_reg_lon[\"Loneliness5\"]\n",
    "\n",
    "dt_linear_reg_lon[\"Loneliness\"] = (dt_linear_reg_lon[\"Loneliness1\"] + dt_linear_reg_lon[\"Loneliness2\"]\n",
    "                                  + dt_linear_reg_lon[\"Loneliness3\"] + dt_linear_reg_lon[\"Loneliness4\"]\n",
    "                                  + dt_linear_reg_lon[\"Loneliness5\"] + dt_linear_reg_lon[\"Loneliness6\"]\n",
    "                                  + dt_linear_reg_lon[\"Loneliness7\"] + dt_linear_reg_lon[\"Loneliness8\"]\n",
    "                                  + dt_linear_reg_lon[\"Loneliness9\"] + dt_linear_reg_lon[\"Loneliness10\"]\n",
    "                                  + dt_linear_reg_lon[\"Loneliness11\"]) / 11\n",
    "dt_linear_reg_lon[\"Loneliness\"].describe()"
   ]
  },
  {
   "cell_type": "code",
   "execution_count": 23,
   "id": "3efb7216-b5c3-4924-846c-3673917c0d8c",
   "metadata": {},
   "outputs": [
    {
     "data": {
      "text/plain": [
       "count       947.0\n",
       "mean     3.438094\n",
       "std      0.926104\n",
       "min           1.0\n",
       "25%         2.875\n",
       "50%           3.5\n",
       "75%           4.0\n",
       "max           6.0\n",
       "Name: Attitude_aging, dtype: Float64"
      ]
     },
     "execution_count": 23,
     "metadata": {},
     "output_type": "execute_result"
    }
   ],
   "source": [
    "dt_linear_reg_lon[\"Attitude1\"] = 7 - dt_linear_reg_lon[\"Attitude1\"]\n",
    "dt_linear_reg_lon[\"Attitude3\"] = 7 - dt_linear_reg_lon[\"Attitude3\"]\n",
    "dt_linear_reg_lon[\"Attitude7\"] = 7 - dt_linear_reg_lon[\"Attitude7\"]\n",
    "dt_linear_reg_lon[\"Attitude8\"] = 7 - dt_linear_reg_lon[\"Attitude8\"]\n",
    "\n",
    "dt_linear_reg_lon[\"Attitude_aging\"] =  (dt_linear_reg_lon[\"Attitude1\"] + dt_linear_reg_lon[\"Attitude2\"]\n",
    "                                       + dt_linear_reg_lon[\"Attitude3\"] + dt_linear_reg_lon[\"Attitude4\"]\n",
    "                                       + dt_linear_reg_lon[\"Attitude5\"] + dt_linear_reg_lon[\"Attitude6\"]\n",
    "                                       + dt_linear_reg_lon[\"Attitude7\"] + dt_linear_reg_lon[\"Attitude8\"]) / 8\n",
    "\n",
    "dt_linear_reg_lon[\"Attitude_aging\"].describe()"
   ]
  },
  {
   "cell_type": "code",
   "execution_count": 24,
   "id": "3147c3d2-69c3-4091-a60b-23ee5e71a0e4",
   "metadata": {},
   "outputs": [
    {
     "name": "stdout",
     "output_type": "stream",
     "text": [
      "ADL - DRESSING\n",
      "0    785\n",
      "1    162\n",
      "Name: count, dtype: int64\n",
      "ADL - WALKING\n",
      "0    842\n",
      "1    105\n",
      "Name: count, dtype: int64\n",
      "ADL - BATHING\n",
      "0    863\n",
      "1     84\n",
      "Name: count, dtype: int64\n",
      "ADL - EATING\n",
      "0    911\n",
      "1     36\n",
      "Name: count, dtype: int64\n",
      "ADL - GET IN-OUT BED\n",
      "0    858\n",
      "1     89\n",
      "Name: count, dtype: int64\n",
      "ADL - USING TOILET\n",
      "0    859\n",
      "1     88\n",
      "Name: count, dtype: int64\n"
     ]
    }
   ],
   "source": [
    "dt_linear_reg_lon[\"ADL - DRESSING\"] = dt_linear_reg_lon[\"ADL - DRESSING\"].map({1: 1, 5: 0, 6: 0, 8: 0})\n",
    "print(dt_linear_reg_lon[\"ADL - DRESSING\"].value_counts())\n",
    "\n",
    "dt_linear_reg_lon[\"ADL - WALKING\"] = dt_linear_reg_lon[\"ADL - WALKING\"].map({1: 1, 5: 0, 6: 0, 7: 0, 8: 0})\n",
    "print(dt_linear_reg_lon[\"ADL - WALKING\"].value_counts())\n",
    "\n",
    "dt_linear_reg_lon[\"ADL - BATHING\"] = dt_linear_reg_lon[\"ADL - BATHING\"].map({1: 1, 5: 0, 6: 0})\n",
    "print(dt_linear_reg_lon[\"ADL - BATHING\"].value_counts())\n",
    "\n",
    "dt_linear_reg_lon[\"ADL - EATING\"] = dt_linear_reg_lon[\"ADL - EATING\"].map({1: 1, 5: 0})\n",
    "print(dt_linear_reg_lon[\"ADL - EATING\"].value_counts())\n",
    "\n",
    "dt_linear_reg_lon[\"ADL - GET IN-OUT BED\"] = dt_linear_reg_lon[\"ADL - GET IN-OUT BED\"].map({1: 1, 5: 0, 7: 0})\n",
    "print(dt_linear_reg_lon[\"ADL - GET IN-OUT BED\"].value_counts())\n",
    "\n",
    "dt_linear_reg_lon[\"ADL - USING TOILET\"] = dt_linear_reg_lon[\"ADL - USING TOILET\"].map({1: 1, 5: 0, 7: 0})\n",
    "print(dt_linear_reg_lon[\"ADL - USING TOILET\"].value_counts())"
   ]
  },
  {
   "cell_type": "code",
   "execution_count": 25,
   "id": "61ace852-849f-4a1f-98e1-0ec0457c7f22",
   "metadata": {},
   "outputs": [
    {
     "name": "stdout",
     "output_type": "stream",
     "text": [
      "count    947.000000\n",
      "mean       0.595565\n",
      "std        1.113107\n",
      "min        0.000000\n",
      "25%        0.000000\n",
      "50%        0.000000\n",
      "75%        1.000000\n",
      "max        6.000000\n",
      "Name: ADL, dtype: float64\n"
     ]
    }
   ],
   "source": [
    "dt_linear_reg_lon[\"ADL\"] = dt_linear_reg_lon[\"ADL - DRESSING\"] + dt_linear_reg_lon[\"ADL - WALKING\"] + dt_linear_reg_lon[\"ADL - BATHING\"] + dt_linear_reg_lon[\"ADL - EATING\"] + dt_linear_reg_lon[\"ADL - GET IN-OUT BED\"] + dt_linear_reg_lon[\"ADL - USING TOILET\"]\n",
    "print(dt_linear_reg_lon[\"ADL\"].describe())"
   ]
  },
  {
   "cell_type": "code",
   "execution_count": 26,
   "id": "cf92499e-4f72-4992-88cd-e8e663f63c04",
   "metadata": {},
   "outputs": [
    {
     "name": "stdout",
     "output_type": "stream",
     "text": [
      "IADL - MEAL PREPARATION\n",
      "0    876\n",
      "1     71\n",
      "Name: count, dtype: int64\n",
      "IADL - GROC SHOP\n",
      "0    845\n",
      "1    102\n",
      "Name: count, dtype: int64\n",
      "IADL - MAKING PHONE CALLS\n",
      "0    919\n",
      "1     28\n",
      "Name: count, dtype: int64\n",
      "IADL - TAKING MEDICATION\n",
      "0    914\n",
      "1     33\n",
      "Name: count, dtype: int64\n",
      "IADL - HOUSE-YARD WORK\n",
      "0    567\n",
      "1    380\n",
      "Name: count, dtype: int64\n",
      "IADL - MANAGING MONEY\n",
      "0    902\n",
      "1     45\n",
      "Name: count, dtype: int64\n"
     ]
    }
   ],
   "source": [
    "dt_linear_reg_lon[\"IADL - MEAL PREPARATION\"] = dt_linear_reg_lon[\"IADL - MEAL PREPARATION\"].map({1: 1, 5: 0, 6: 0, 7: 0, 8: 0})\n",
    "print(dt_linear_reg_lon[\"IADL - MEAL PREPARATION\"].value_counts())\n",
    "\n",
    "dt_linear_reg_lon[\"IADL - GROC SHOP\"] = dt_linear_reg_lon[\"IADL - GROC SHOP\"].map({1: 1, 5: 0, 6: 0, 7: 0, 8: 0})\n",
    "print(dt_linear_reg_lon[\"IADL - GROC SHOP\"].value_counts())\n",
    "\n",
    "dt_linear_reg_lon[\"IADL - MAKING PHONE CALLS\"] = dt_linear_reg_lon[\"IADL - MAKING PHONE CALLS\"].map({1: 1, 5: 0, 6: 0, 7: 0})\n",
    "print(dt_linear_reg_lon[\"IADL - MAKING PHONE CALLS\"].value_counts())\n",
    "\n",
    "dt_linear_reg_lon[\"IADL - TAKING MEDICATION\"] = dt_linear_reg_lon[\"IADL - TAKING MEDICATION\"].map({1: 1, 5: 0, 7: 0})\n",
    "print(dt_linear_reg_lon[\"IADL - TAKING MEDICATION\"].value_counts())\n",
    "\n",
    "dt_linear_reg_lon[\"IADL - HOUSE-YARD WORK\"] = dt_linear_reg_lon[\"IADL - HOUSE-YARD WORK\"].map({1: 1, 5: 0, 8: 0})\n",
    "print(dt_linear_reg_lon[\"IADL - HOUSE-YARD WORK\"].value_counts())\n",
    "\n",
    "dt_linear_reg_lon[\"IADL - MANAGING MONEY\"] = dt_linear_reg_lon[\"IADL - MANAGING MONEY\"].map({1: 1, 5: 0, 7: 0})\n",
    "print(dt_linear_reg_lon[\"IADL - MANAGING MONEY\"].value_counts())"
   ]
  },
  {
   "cell_type": "code",
   "execution_count": 27,
   "id": "595ea2d9-53cc-4446-aaff-18e609196c85",
   "metadata": {},
   "outputs": [
    {
     "name": "stdout",
     "output_type": "stream",
     "text": [
      "count    947.000000\n",
      "mean       0.695882\n",
      "std        0.984238\n",
      "min        0.000000\n",
      "25%        0.000000\n",
      "50%        0.000000\n",
      "75%        1.000000\n",
      "max        6.000000\n",
      "Name: IADL, dtype: float64\n"
     ]
    }
   ],
   "source": [
    "dt_linear_reg_lon[\"IADL\"] = dt_linear_reg_lon[\"IADL - MEAL PREPARATION\"] + dt_linear_reg_lon[\"IADL - GROC SHOP\"] + dt_linear_reg_lon[\"IADL - MAKING PHONE CALLS\"] + dt_linear_reg_lon[\"IADL - TAKING MEDICATION\"] + dt_linear_reg_lon[\"IADL - HOUSE-YARD WORK\"] + dt_linear_reg_lon[\"IADL - MANAGING MONEY\"]\n",
    "print(dt_linear_reg_lon[\"IADL\"].describe())"
   ]
  },
  {
   "cell_type": "code",
   "execution_count": 28,
   "id": "299f2550-7d5b-46cd-84bc-83c833ca71db",
   "metadata": {},
   "outputs": [
    {
     "name": "stdout",
     "output_type": "stream",
     "text": [
      "count       947.0\n",
      "mean     2.868004\n",
      "std      1.117618\n",
      "min           1.0\n",
      "25%           2.0\n",
      "50%           2.8\n",
      "75%           3.6\n",
      "max           6.0\n",
      "Name: Distrust, dtype: Float64\n"
     ]
    }
   ],
   "source": [
    "dt_linear_reg_lon[\"Distrust\"] = (dt_linear_reg_lon[\"DISTRUST - HELP OTHERS\"] + dt_linear_reg_lon[\"DISTRUST - UNFAIR MEANS TO GAIN\"]\n",
    "                                + dt_linear_reg_lon[\"DISTRUST - NO ONE CARES\"] + dt_linear_reg_lon[\"DISTRUST - LIE IN ORDER TO GET AHEAD\"] \n",
    "                                + dt_linear_reg_lon[\"DISTRUST - HIDDEN REASONS\"]) / 5\n",
    "print(dt_linear_reg_lon[\"Distrust\"].describe())"
   ]
  },
  {
   "cell_type": "code",
   "execution_count": 29,
   "id": "d132389f-8e6c-45bd-a01a-c59fe3a5d529",
   "metadata": {},
   "outputs": [
    {
     "data": {
      "text/plain": [
       "Subjective_younger\n",
       "1    651\n",
       "0    296\n",
       "Name: count, dtype: int64"
      ]
     },
     "execution_count": 29,
     "metadata": {},
     "output_type": "execute_result"
    }
   ],
   "source": [
    "dt_linear_reg_lon[\"Subjective_younger\"] = np.where(\n",
    "    dt_linear_reg_lon[\"Subjective_age\"] - dt_linear_reg_lon[\"Age\"] < 0,\n",
    "    1, \n",
    "    0  \n",
    ")\n",
    "dt_linear_reg_lon[\"Subjective_younger\"].value_counts()"
   ]
  },
  {
   "cell_type": "code",
   "execution_count": 30,
   "id": "611d4fc3-283d-495e-9eb7-58ea32284b1e",
   "metadata": {},
   "outputs": [
    {
     "name": "stdout",
     "output_type": "stream",
     "text": [
      "count       947.0\n",
      "mean     1.501584\n",
      "std      0.690444\n",
      "min           1.0\n",
      "25%           1.0\n",
      "50%      1.333333\n",
      "75%      1.666667\n",
      "max           6.0\n",
      "Name: Ageism, dtype: Float64\n"
     ]
    }
   ],
   "source": [
    "dt_linear_reg_lon[\"AGEISM1\"] = 7 - dt_linear_reg_lon[\"AGEISM1\"]\n",
    "dt_linear_reg_lon[\"AGEISM2\"] = 7 - dt_linear_reg_lon[\"AGEISM2\"]\n",
    "dt_linear_reg_lon[\"AGEISM3\"] = 7 - dt_linear_reg_lon[\"AGEISM3\"]\n",
    "dt_linear_reg_lon[\"AGEISM4\"] = 7 - dt_linear_reg_lon[\"AGEISM4\"]\n",
    "dt_linear_reg_lon[\"AGEISM5\"] = 7 - dt_linear_reg_lon[\"AGEISM5\"]\n",
    "dt_linear_reg_lon[\"AGEISM6\"] = 7 - dt_linear_reg_lon[\"AGEISM6\"]\n",
    "\n",
    "dt_linear_reg_lon[\"Ageism\"] = (dt_linear_reg_lon[\"AGEISM1\"] + dt_linear_reg_lon[\"AGEISM2\"]\n",
    "                              + dt_linear_reg_lon[\"AGEISM3\"] + dt_linear_reg_lon[\"AGEISM4\"]\n",
    "                              + dt_linear_reg_lon[\"AGEISM5\"] + dt_linear_reg_lon[\"AGEISM6\"]) / 6\n",
    "print(dt_linear_reg_lon[\"Ageism\"].describe())"
   ]
  },
  {
   "cell_type": "code",
   "execution_count": 31,
   "id": "1c93322d-8845-49a7-b756-83e6f869b416",
   "metadata": {},
   "outputs": [
    {
     "name": "stdout",
     "output_type": "stream",
     "text": [
      "count       947.0\n",
      "mean     1.701373\n",
      "std      0.629934\n",
      "min           1.0\n",
      "25%           1.2\n",
      "50%           1.6\n",
      "75%           2.2\n",
      "max           4.0\n",
      "Name: Worry, dtype: Float64\n"
     ]
    }
   ],
   "source": [
    "dt_linear_reg_lon[\"Worry\"] = (dt_linear_reg_lon[\"WORRY1\"] + dt_linear_reg_lon[\"WORRY2\"]\n",
    "                             + dt_linear_reg_lon[\"WORRY3\"] + dt_linear_reg_lon[\"WORRY4\"]\n",
    "                             + dt_linear_reg_lon[\"WORRY5\"]) / 5\n",
    "\n",
    "print(dt_linear_reg_lon[\"Worry\"].describe())"
   ]
  },
  {
   "cell_type": "code",
   "execution_count": 32,
   "id": "476ce86a-5ed7-4103-8234-2d2f412d3b73",
   "metadata": {},
   "outputs": [
    {
     "data": {
      "text/plain": [
       "Own_Rent_Home\n",
       "1    678\n",
       "0    269\n",
       "Name: count, dtype: int64"
      ]
     },
     "execution_count": 32,
     "metadata": {},
     "output_type": "execute_result"
    }
   ],
   "source": [
    "dt_linear_reg_lon[\"Own_Rent_Home\"] = dt_linear_reg_lon[\"Own_Rent_Home\"].map({1: 1, 2: 0, 3: 0, 7: 0, 9: 0})\n",
    "dt_linear_reg_lon[\"Own_Rent_Home\"].value_counts()"
   ]
  },
  {
   "cell_type": "code",
   "execution_count": 33,
   "id": "3c2c09e0-b697-493c-b266-3ecf3d5bf960",
   "metadata": {},
   "outputs": [
    {
     "data": {
      "text/plain": [
       "Volunteer\n",
       "0    714\n",
       "1    233\n",
       "Name: count, dtype: int64"
      ]
     },
     "execution_count": 33,
     "metadata": {},
     "output_type": "execute_result"
    }
   ],
   "source": [
    "dt_linear_reg_lon[\"Volunteer\"] = 7 - dt_linear_reg_lon[\"Volunteer\"]\n",
    "dt_linear_reg_lon[\"Volunteer\"] = dt_linear_reg_lon[\"Volunteer\"].map({1: 1, 2: 1, 3: 1, 4: 1, 5: 1, 6: 1, 0: 0})\n",
    "dt_linear_reg_lon[\"Volunteer\"].value_counts()"
   ]
  },
  {
   "cell_type": "code",
   "execution_count": 34,
   "id": "3993abd6-3e11-4ebb-aebb-44a831a4942f",
   "metadata": {},
   "outputs": [
    {
     "data": {
      "text/plain": [
       "Attend_Club\n",
       "0    550\n",
       "1    397\n",
       "Name: count, dtype: int64"
      ]
     },
     "execution_count": 34,
     "metadata": {},
     "output_type": "execute_result"
    }
   ],
   "source": [
    "dt_linear_reg_lon[\"Attend_Club\"] = 7 - dt_linear_reg_lon[\"Attend_Club\"]\n",
    "dt_linear_reg_lon[\"Attend_Club\"] = dt_linear_reg_lon[\"Attend_Club\"].map({1: 1, 2: 1, 3: 1, 4: 1, 5: 1, 6: 1, 0: 0})\n",
    "dt_linear_reg_lon[\"Attend_Club\"].value_counts()"
   ]
  },
  {
   "cell_type": "code",
   "execution_count": 35,
   "id": "200f06c8-474b-4920-9918-8c1f0afab54c",
   "metadata": {},
   "outputs": [
    {
     "data": {
      "text/plain": [
       "Sport_Exercise\n",
       "1    558\n",
       "0    389\n",
       "Name: count, dtype: int64"
      ]
     },
     "execution_count": 35,
     "metadata": {},
     "output_type": "execute_result"
    }
   ],
   "source": [
    "dt_linear_reg_lon[\"Sport_Exercise\"] = 7 - dt_linear_reg_lon[\"Sport_Exercise\"]\n",
    "dt_linear_reg_lon[\"Sport_Exercise\"] = dt_linear_reg_lon[\"Sport_Exercise\"].map({1: 1, 2: 1, 3: 1, 4: 1, 5: 1, 6: 1, 0: 0})\n",
    "dt_linear_reg_lon[\"Sport_Exercise\"].value_counts()"
   ]
  },
  {
   "cell_type": "code",
   "execution_count": 36,
   "id": "0ec201dc-838c-43cc-98ea-437ca6353c11",
   "metadata": {},
   "outputs": [
    {
     "data": {
      "text/plain": [
       "WALK_20M\n",
       "1    727\n",
       "0    220\n",
       "Name: count, dtype: int64"
      ]
     },
     "execution_count": 36,
     "metadata": {},
     "output_type": "execute_result"
    }
   ],
   "source": [
    "dt_linear_reg_lon[\"WALK_20M\"] = 7 - dt_linear_reg_lon[\"WALK_20M\"]\n",
    "dt_linear_reg_lon[\"WALK_20M\"] = dt_linear_reg_lon[\"WALK_20M\"].map({1: 1, 2: 1, 3: 1, 4: 1, 5: 1, 6: 1, 0: 0})\n",
    "dt_linear_reg_lon[\"WALK_20M\"].value_counts()"
   ]
  },
  {
   "cell_type": "code",
   "execution_count": 37,
   "id": "2a098ef8-2bd2-462a-ae5a-0011e9317d27",
   "metadata": {},
   "outputs": [
    {
     "name": "stdout",
     "output_type": "stream",
     "text": [
      "count       947.0\n",
      "mean     5.304873\n",
      "std      1.360711\n",
      "min           1.0\n",
      "25%      4.428571\n",
      "50%      5.714286\n",
      "75%      6.428571\n",
      "max           7.0\n",
      "Name: Community_Satisfaction, dtype: Float64\n"
     ]
    }
   ],
   "source": [
    "dt_linear_reg_lon[\"community1\"] = 8 - dt_linear_reg_lon[\"community1\"]\n",
    "dt_linear_reg_lon[\"community2\"] = 8 - dt_linear_reg_lon[\"community2\"]\n",
    "dt_linear_reg_lon[\"community3\"] = 8 - dt_linear_reg_lon[\"community3\"]\n",
    "dt_linear_reg_lon[\"community4\"] = 8 - dt_linear_reg_lon[\"community4\"]\n",
    "dt_linear_reg_lon[\"community5\"] = 8 - dt_linear_reg_lon[\"community5\"]\n",
    "dt_linear_reg_lon[\"community6\"] = 8 - dt_linear_reg_lon[\"community6\"]\n",
    "dt_linear_reg_lon[\"community7\"] = 8 - dt_linear_reg_lon[\"community7\"]\n",
    "\n",
    "dt_linear_reg_lon[\"Community_Satisfaction\"] = (dt_linear_reg_lon[\"community1\"] + dt_linear_reg_lon[\"community2\"]\n",
    "                                              + dt_linear_reg_lon[\"community3\"] + dt_linear_reg_lon[\"community4\"]\n",
    "                                              + dt_linear_reg_lon[\"community5\"] + dt_linear_reg_lon[\"community6\"]\n",
    "                                              + dt_linear_reg_lon[\"community7\"]) / 7\n",
    "print(dt_linear_reg_lon[\"Community_Satisfaction\"].describe())"
   ]
  },
  {
   "cell_type": "code",
   "execution_count": 38,
   "id": "51c33b07-6b60-4b14-a979-d513ff11dfac",
   "metadata": {},
   "outputs": [
    {
     "data": {
      "text/plain": [
       "(947, 80)"
      ]
     },
     "execution_count": 38,
     "metadata": {},
     "output_type": "execute_result"
    }
   ],
   "source": [
    "dt_linear_reg_lon.shape"
   ]
  },
  {
   "cell_type": "markdown",
   "id": "429f0a86-1e60-4dc1-849a-add2b24fc778",
   "metadata": {},
   "source": [
    "T-test"
   ]
  },
  {
   "cell_type": "code",
   "execution_count": 39,
   "id": "a31d9f31-3035-4aeb-ae5f-34984e21c2fb",
   "metadata": {},
   "outputs": [
    {
     "name": "stdout",
     "output_type": "stream",
     "text": [
      "t = -0.20976140734629675 p = 0.8339087450319738\n"
     ]
    }
   ],
   "source": [
    "from scipy.stats import ttest_ind\n",
    "\n",
    "male = dt_linear_reg_lon.loc[dt_linear_reg_lon[\"Gender\"] == 1, \"Loneliness\"].dropna()\n",
    "female = dt_linear_reg_lon.loc[dt_linear_reg_lon[\"Gender\"] == 0, \"Loneliness\"].dropna()\n",
    "\n",
    "t_stat, p_value = ttest_ind(male, female, equal_var=False)\n",
    "print(\"t =\", t_stat, \"p =\", p_value)"
   ]
  },
  {
   "cell_type": "code",
   "execution_count": 40,
   "id": "06d06d97-721e-4fa8-b169-054d44fec375",
   "metadata": {},
   "outputs": [
    {
     "name": "stdout",
     "output_type": "stream",
     "text": [
      "t = -4.9290972221851375 p = 9.866683660383946e-07\n"
     ]
    }
   ],
   "source": [
    "Married = dt_linear_reg_lon.loc[dt_linear_reg_lon[\"Mar_status\"] == 1, \"Loneliness\"].dropna()\n",
    "Unmarried = dt_linear_reg_lon.loc[dt_linear_reg_lon[\"Mar_status\"] == 0, \"Loneliness\"].dropna()\n",
    "\n",
    "t_stat, p_value = ttest_ind(Married, Unmarried, equal_var=False)\n",
    "print(\"t =\", t_stat, \"p =\", p_value)"
   ]
  },
  {
   "cell_type": "code",
   "execution_count": 41,
   "id": "d721a773-3014-4a91-b3cf-bca24ca7fe0c",
   "metadata": {},
   "outputs": [
    {
     "name": "stdout",
     "output_type": "stream",
     "text": [
      "t = -0.8992913130608737 p = 0.37033447622216564\n"
     ]
    }
   ],
   "source": [
    "Job = dt_linear_reg_lon.loc[dt_linear_reg_lon[\"Job_status\"] == 1, \"Loneliness\"].dropna()\n",
    "NoJob = dt_linear_reg_lon.loc[dt_linear_reg_lon[\"Job_status\"] == 0, \"Loneliness\"].dropna()\n",
    "\n",
    "t_stat, p_value = ttest_ind(Job, NoJob, equal_var=False)\n",
    "print(\"t =\", t_stat, \"p =\", p_value)"
   ]
  },
  {
   "cell_type": "code",
   "execution_count": 42,
   "id": "05de3c5c-ae2c-40d1-877e-d14481cdbdc3",
   "metadata": {},
   "outputs": [
    {
     "name": "stdout",
     "output_type": "stream",
     "text": [
      "t = -4.548863391867102 p = 6.7254938482353125e-06\n"
     ]
    }
   ],
   "source": [
    "Younger = dt_linear_reg_lon.loc[dt_linear_reg_lon[\"Subjective_younger\"] == 1, \"Loneliness\"].dropna()\n",
    "Older = dt_linear_reg_lon.loc[dt_linear_reg_lon[\"Subjective_younger\"] == 0, \"Loneliness\"].dropna()\n",
    "\n",
    "t_stat, p_value = ttest_ind(Younger, Older, equal_var=False)\n",
    "print(\"t =\", t_stat, \"p =\", p_value)"
   ]
  },
  {
   "cell_type": "code",
   "execution_count": 43,
   "id": "4e527337-eae8-4387-8928-308ef139b706",
   "metadata": {},
   "outputs": [
    {
     "name": "stdout",
     "output_type": "stream",
     "text": [
      "t = -3.8048803243531486 p = 0.0001618321720370604\n"
     ]
    }
   ],
   "source": [
    "Volunteer = dt_linear_reg_lon.loc[dt_linear_reg_lon[\"Volunteer\"] == 1, \"Loneliness\"].dropna()\n",
    "NoVolunteer = dt_linear_reg_lon.loc[dt_linear_reg_lon[\"Volunteer\"] == 0, \"Loneliness\"].dropna()\n",
    "\n",
    "t_stat, p_value = ttest_ind(Volunteer, NoVolunteer, equal_var=False)\n",
    "print(\"t =\", t_stat, \"p =\", p_value)"
   ]
  },
  {
   "cell_type": "code",
   "execution_count": 44,
   "id": "b5bdbf34-8415-41df-b67d-b20f616382c0",
   "metadata": {},
   "outputs": [
    {
     "name": "stdout",
     "output_type": "stream",
     "text": [
      "t = -5.462427343648567 p = 6.047145073168713e-08\n"
     ]
    }
   ],
   "source": [
    "Club = dt_linear_reg_lon.loc[dt_linear_reg_lon[\"Attend_Club\"] == 1, \"Loneliness\"].dropna()\n",
    "NoClub = dt_linear_reg_lon.loc[dt_linear_reg_lon[\"Attend_Club\"] == 0, \"Loneliness\"].dropna()\n",
    "\n",
    "t_stat, p_value = ttest_ind(Club, NoClub, equal_var=False)\n",
    "print(\"t =\", t_stat, \"p =\", p_value)"
   ]
  },
  {
   "cell_type": "markdown",
   "id": "ea98887d-92c3-45a9-80a5-2788d612acde",
   "metadata": {},
   "source": [
    "Exercise = dt_linear_reg_lon.loc[dt_linear_reg_lon[\"Sport_Exercise\"] == 1, \"Loneliness\"].dropna()\n",
    "NoExercise = dt_linear_reg_lon.loc[dt_linear_reg_lon[\"Sport_Exercise\"] == 0, \"Loneliness\"].dropna()\n",
    "\n",
    "t_stat, p_value = ttest_ind(Exercise, NoExercise, equal_var=False)\n",
    "print(\"t =\", t_stat, \"p =\", p_value)"
   ]
  },
  {
   "cell_type": "code",
   "execution_count": 46,
   "id": "0c0ae1b0-9d24-46d4-88c8-3895f7b9e595",
   "metadata": {},
   "outputs": [
    {
     "name": "stdout",
     "output_type": "stream",
     "text": [
      "t = -3.898692795136804 p = 0.00011730771679626\n"
     ]
    }
   ],
   "source": [
    "Walk = dt_linear_reg_lon.loc[dt_linear_reg_lon[\"WALK_20M\"] == 1, \"Loneliness\"].dropna()\n",
    "NoWalk = dt_linear_reg_lon.loc[dt_linear_reg_lon[\"WALK_20M\"] == 0, \"Loneliness\"].dropna()\n",
    "\n",
    "t_stat, p_value = ttest_ind(Walk, NoWalk, equal_var=False)\n",
    "print(\"t =\", t_stat, \"p =\", p_value)"
   ]
  },
  {
   "cell_type": "code",
   "execution_count": null,
   "id": "3b048182-67b1-4c3b-ba61-2c21075ee4ca",
   "metadata": {},
   "outputs": [],
   "source": [
    "Correlation"
   ]
  },
  {
   "cell_type": "code",
   "execution_count": 47,
   "id": "4593c124-63e6-44d3-b557-78d6f272b342",
   "metadata": {},
   "outputs": [],
   "source": [
    "def corr_with_pvalues(df, cols):\n",
    "    corr_matrix = pd.DataFrame(index=cols, columns=cols, dtype=float)\n",
    "    p_matrix = pd.DataFrame(index=cols, columns=cols, dtype=float)\n",
    "\n",
    "    for i in cols:\n",
    "        for j in cols:\n",
    "            if i == j:\n",
    "                corr_matrix.loc[i, j] = 1.0\n",
    "                p_matrix.loc[i, j] = 0.0\n",
    "            else:\n",
    "                mask = df[[i, j]].dropna()\n",
    "                if len(mask) > 1: \n",
    "                    r, p = pearsonr(mask[i], mask[j])\n",
    "                    corr_matrix.loc[i, j] = r\n",
    "                    p_matrix.loc[i, j] = p\n",
    "                else:\n",
    "                    corr_matrix.loc[i, j] = float(\"nan\")\n",
    "                    p_matrix.loc[i, j] = float(\"nan\")\n",
    "    return corr_matrix, p_matrix\n",
    "\n",
    "def significance_stars(p):\n",
    "    if p < 0.001:\n",
    "        return \"***\"\n",
    "    elif p < 0.01:\n",
    "        return \"**\"\n",
    "    elif p < 0.05:\n",
    "        return \"*\"\n",
    "    else:\n",
    "        return \"\"\n",
    "\n",
    "def corr_table_with_stars(corr, pvals):\n",
    "    table = corr.copy()\n",
    "    for i in corr.columns:\n",
    "        for j in corr.index:\n",
    "            stars = significance_stars(pvals.loc[j,i])\n",
    "            table.loc[j,i] = f\"{corr.loc[j,i]:.2f}{stars}\"\n",
    "    return table"
   ]
  },
  {
   "cell_type": "code",
   "execution_count": 48,
   "id": "d91fbc7c-fd64-4460-9639-384a1807ec31",
   "metadata": {},
   "outputs": [
    {
     "name": "stdout",
     "output_type": "stream",
     "text": [
      "                             Age Edu_years Rate_health       ADL      IADL  \\\n",
      "Age                      1.00***     -0.02        0.03      0.02   0.11***   \n",
      "Edu_years                  -0.02   1.00***     0.19***  -0.13***  -0.18***   \n",
      "Rate_health                 0.03   0.19***     1.00***  -0.33***  -0.34***   \n",
      "ADL                         0.02  -0.13***    -0.33***   1.00***   0.53***   \n",
      "IADL                     0.11***  -0.18***    -0.34***   0.53***   1.00***   \n",
      "Distrust                -0.14***  -0.17***    -0.16***    0.09**     0.07*   \n",
      "Ageism                   -0.10**      0.04    -0.12***    0.10**      0.05   \n",
      "Community_Satisfaction   0.14***   0.13***     0.16***     -0.06     -0.04   \n",
      "Attitude_aging          -0.14***      0.04     0.38***  -0.18***  -0.20***   \n",
      "Loneliness                 -0.05   -0.10**    -0.24***   0.13***    0.10**   \n",
      "\n",
      "                        Distrust    Ageism Community_Satisfaction  \\\n",
      "Age                     -0.14***   -0.10**                0.14***   \n",
      "Edu_years               -0.17***      0.04                0.13***   \n",
      "Rate_health             -0.16***  -0.12***                0.16***   \n",
      "ADL                       0.09**    0.10**                  -0.06   \n",
      "IADL                       0.07*      0.05                  -0.04   \n",
      "Distrust                 1.00***   0.24***               -0.27***   \n",
      "Ageism                   0.24***   1.00***               -0.21***   \n",
      "Community_Satisfaction  -0.27***  -0.21***                1.00***   \n",
      "Attitude_aging          -0.16***  -0.22***                0.11***   \n",
      "Loneliness               0.37***   0.36***               -0.28***   \n",
      "\n",
      "                       Attitude_aging Loneliness  \n",
      "Age                          -0.14***      -0.05  \n",
      "Edu_years                        0.04    -0.10**  \n",
      "Rate_health                   0.38***   -0.24***  \n",
      "ADL                          -0.18***    0.13***  \n",
      "IADL                         -0.20***     0.10**  \n",
      "Distrust                     -0.16***    0.37***  \n",
      "Ageism                       -0.22***    0.36***  \n",
      "Community_Satisfaction        0.11***   -0.28***  \n",
      "Attitude_aging                1.00***   -0.42***  \n",
      "Loneliness                   -0.42***    1.00***  \n"
     ]
    },
    {
     "name": "stderr",
     "output_type": "stream",
     "text": [
      "C:\\Users\\User\\AppData\\Local\\Temp\\ipykernel_21572\\4060904318.py:36: FutureWarning: Setting an item of incompatible dtype is deprecated and will raise an error in a future version of pandas. Value '1.00***' has dtype incompatible with float64, please explicitly cast to a compatible dtype first.\n",
      "  table.loc[j,i] = f\"{corr.loc[j,i]:.2f}{stars}\"\n",
      "C:\\Users\\User\\AppData\\Local\\Temp\\ipykernel_21572\\4060904318.py:36: FutureWarning: Setting an item of incompatible dtype is deprecated and will raise an error in a future version of pandas. Value '-0.02' has dtype incompatible with float64, please explicitly cast to a compatible dtype first.\n",
      "  table.loc[j,i] = f\"{corr.loc[j,i]:.2f}{stars}\"\n",
      "C:\\Users\\User\\AppData\\Local\\Temp\\ipykernel_21572\\4060904318.py:36: FutureWarning: Setting an item of incompatible dtype is deprecated and will raise an error in a future version of pandas. Value '0.03' has dtype incompatible with float64, please explicitly cast to a compatible dtype first.\n",
      "  table.loc[j,i] = f\"{corr.loc[j,i]:.2f}{stars}\"\n",
      "C:\\Users\\User\\AppData\\Local\\Temp\\ipykernel_21572\\4060904318.py:36: FutureWarning: Setting an item of incompatible dtype is deprecated and will raise an error in a future version of pandas. Value '0.02' has dtype incompatible with float64, please explicitly cast to a compatible dtype first.\n",
      "  table.loc[j,i] = f\"{corr.loc[j,i]:.2f}{stars}\"\n",
      "C:\\Users\\User\\AppData\\Local\\Temp\\ipykernel_21572\\4060904318.py:36: FutureWarning: Setting an item of incompatible dtype is deprecated and will raise an error in a future version of pandas. Value '0.11***' has dtype incompatible with float64, please explicitly cast to a compatible dtype first.\n",
      "  table.loc[j,i] = f\"{corr.loc[j,i]:.2f}{stars}\"\n",
      "C:\\Users\\User\\AppData\\Local\\Temp\\ipykernel_21572\\4060904318.py:36: FutureWarning: Setting an item of incompatible dtype is deprecated and will raise an error in a future version of pandas. Value '-0.14***' has dtype incompatible with float64, please explicitly cast to a compatible dtype first.\n",
      "  table.loc[j,i] = f\"{corr.loc[j,i]:.2f}{stars}\"\n",
      "C:\\Users\\User\\AppData\\Local\\Temp\\ipykernel_21572\\4060904318.py:36: FutureWarning: Setting an item of incompatible dtype is deprecated and will raise an error in a future version of pandas. Value '-0.10**' has dtype incompatible with float64, please explicitly cast to a compatible dtype first.\n",
      "  table.loc[j,i] = f\"{corr.loc[j,i]:.2f}{stars}\"\n",
      "C:\\Users\\User\\AppData\\Local\\Temp\\ipykernel_21572\\4060904318.py:36: FutureWarning: Setting an item of incompatible dtype is deprecated and will raise an error in a future version of pandas. Value '0.14***' has dtype incompatible with float64, please explicitly cast to a compatible dtype first.\n",
      "  table.loc[j,i] = f\"{corr.loc[j,i]:.2f}{stars}\"\n",
      "C:\\Users\\User\\AppData\\Local\\Temp\\ipykernel_21572\\4060904318.py:36: FutureWarning: Setting an item of incompatible dtype is deprecated and will raise an error in a future version of pandas. Value '-0.14***' has dtype incompatible with float64, please explicitly cast to a compatible dtype first.\n",
      "  table.loc[j,i] = f\"{corr.loc[j,i]:.2f}{stars}\"\n",
      "C:\\Users\\User\\AppData\\Local\\Temp\\ipykernel_21572\\4060904318.py:36: FutureWarning: Setting an item of incompatible dtype is deprecated and will raise an error in a future version of pandas. Value '-0.05' has dtype incompatible with float64, please explicitly cast to a compatible dtype first.\n",
      "  table.loc[j,i] = f\"{corr.loc[j,i]:.2f}{stars}\"\n"
     ]
    }
   ],
   "source": [
    "from scipy.stats import pearsonr\n",
    "\n",
    "cols = [\"Age\", \"Edu_years\", \"Rate_health\", \"ADL\", \"IADL\", \"Distrust\", \"Ageism\", \"Community_Satisfaction\", \"Attitude_aging\", \"Loneliness\"]\n",
    "corr, pvals = corr_with_pvalues(dt_linear_reg_lon, cols)\n",
    "final_table = corr_table_with_stars(corr, pvals)\n",
    "print(final_table)"
   ]
  },
  {
   "cell_type": "code",
   "execution_count": 49,
   "id": "8464d79b-971a-480f-9c92-cb117ad093d9",
   "metadata": {},
   "outputs": [],
   "source": [
    "pd.set_option(\"display.float_format\", \"{:.4f}\".format)"
   ]
  },
  {
   "cell_type": "markdown",
   "id": "e6f93f6d-48c9-4257-a546-bd81e3b0bbe8",
   "metadata": {},
   "source": [
    "Linear Regression"
   ]
  },
  {
   "cell_type": "code",
   "execution_count": 50,
   "id": "26802e8b-391e-4906-b626-a78a11c279ee",
   "metadata": {},
   "outputs": [
    {
     "data": {
      "text/html": [
       "<table class=\"simpletable\">\n",
       "<tr>\n",
       "        <td>Model:</td>               <td>OLS</td>         <td>Adj. R-squared:</td>     <td>0.080</td>  \n",
       "</tr>\n",
       "<tr>\n",
       "  <td>Dependent Variable:</td>    <td>Loneliness</td>           <td>AIC:</td>         <td>1108.4736</td>\n",
       "</tr>\n",
       "<tr>\n",
       "         <td>Date:</td>        <td>2025-09-04 22:13</td>        <td>BIC:</td>         <td>1152.1533</td>\n",
       "</tr>\n",
       "<tr>\n",
       "   <td>No. Observations:</td>         <td>947</td>         <td>Log-Likelihood:</td>    <td>-545.24</td> \n",
       "</tr>\n",
       "<tr>\n",
       "       <td>Df Model:</td>              <td>8</td>           <td>F-statistic:</td>       <td>11.25</td>  \n",
       "</tr>\n",
       "<tr>\n",
       "     <td>Df Residuals:</td>           <td>938</td>       <td>Prob (F-statistic):</td> <td>2.70e-15</td> \n",
       "</tr>\n",
       "<tr>\n",
       "      <td>R-squared:</td>            <td>0.088</td>            <td>Scale:</td>         <td>0.18697</td> \n",
       "</tr>\n",
       "</table>\n",
       "<table class=\"simpletable\">\n",
       "<tr>\n",
       "         <td></td>          <th>Coef.</th>  <th>Std.Err.</th>    <th>t</th>     <th>P>|t|</th> <th>[0.025</th>  <th>0.975]</th> \n",
       "</tr>\n",
       "<tr>\n",
       "  <th>Intercept</th>       <td>2.2781</td>   <td>0.1641</td>  <td>13.8820</td> <td>0.0000</td> <td>1.9560</td>  <td>2.6001</td> \n",
       "</tr>\n",
       "<tr>\n",
       "  <th>Gender[T.1]</th>     <td>0.0284</td>   <td>0.0299</td>  <td>0.9484</td>  <td>0.3432</td> <td>-0.0303</td> <td>0.0871</td> \n",
       "</tr>\n",
       "<tr>\n",
       "  <th>Mar_status[T.1]</th> <td>-0.1380</td>  <td>0.0294</td>  <td>-4.6990</td> <td>0.0000</td> <td>-0.1956</td> <td>-0.0803</td>\n",
       "</tr>\n",
       "<tr>\n",
       "  <th>Job_status[T.1]</th> <td>-0.0001</td>  <td>0.0478</td>  <td>-0.0018</td> <td>0.9986</td> <td>-0.0939</td> <td>0.0938</td> \n",
       "</tr>\n",
       "<tr>\n",
       "  <th>Age</th>             <td>-0.0035</td>  <td>0.0019</td>  <td>-1.8099</td> <td>0.0706</td> <td>-0.0073</td> <td>0.0003</td> \n",
       "</tr>\n",
       "<tr>\n",
       "  <th>Edu_years</th>       <td>-0.0088</td>  <td>0.0048</td>  <td>-1.8403</td> <td>0.0660</td> <td>-0.0181</td> <td>0.0006</td> \n",
       "</tr>\n",
       "<tr>\n",
       "  <th>Rate_health</th>     <td>-0.0964</td>  <td>0.0164</td>  <td>-5.8667</td> <td>0.0000</td> <td>-0.1286</td> <td>-0.0641</td>\n",
       "</tr>\n",
       "<tr>\n",
       "  <th>ADL</th>             <td>0.0209</td>   <td>0.0152</td>  <td>1.3747</td>  <td>0.1696</td> <td>-0.0089</td> <td>0.0506</td> \n",
       "</tr>\n",
       "<tr>\n",
       "  <th>IADL</th>            <td>-0.0029</td>  <td>0.0174</td>  <td>-0.1675</td> <td>0.8670</td> <td>-0.0371</td> <td>0.0313</td> \n",
       "</tr>\n",
       "</table>\n",
       "<table class=\"simpletable\">\n",
       "<tr>\n",
       "     <td>Omnibus:</td>    <td>52.166</td>  <td>Durbin-Watson:</td>    <td>1.788</td>\n",
       "</tr>\n",
       "<tr>\n",
       "  <td>Prob(Omnibus):</td>  <td>0.000</td> <td>Jarque-Bera (JB):</td> <td>58.728</td>\n",
       "</tr>\n",
       "<tr>\n",
       "       <td>Skew:</td>      <td>0.597</td>     <td>Prob(JB):</td>      <td>0.000</td>\n",
       "</tr>\n",
       "<tr>\n",
       "     <td>Kurtosis:</td>    <td>2.749</td>  <td>Condition No.:</td>     <td>907</td> \n",
       "</tr>\n",
       "</table><br/>\n",
       "Notes:<br/>\n",
       "[1] Standard Errors assume that the covariance matrix of the errors is correctly specified."
      ],
      "text/latex": [
       "\\begin{table}\n",
       "\\caption{Results: Ordinary least squares}\n",
       "\\label{}\n",
       "\\begin{center}\n",
       "\\begin{tabular}{llll}\n",
       "\\hline\n",
       "Model:              & OLS              & Adj. R-squared:     & 0.080      \\\\\n",
       "Dependent Variable: & Loneliness       & AIC:                & 1108.4736  \\\\\n",
       "Date:               & 2025-09-04 22:13 & BIC:                & 1152.1533  \\\\\n",
       "No. Observations:   & 947              & Log-Likelihood:     & -545.24    \\\\\n",
       "Df Model:           & 8                & F-statistic:        & 11.25      \\\\\n",
       "Df Residuals:       & 938              & Prob (F-statistic): & 2.70e-15   \\\\\n",
       "R-squared:          & 0.088            & Scale:              & 0.18697    \\\\\n",
       "\\hline\n",
       "\\end{tabular}\n",
       "\\end{center}\n",
       "\n",
       "\\begin{center}\n",
       "\\begin{tabular}{lrrrrrr}\n",
       "\\hline\n",
       "                 &   Coef. & Std.Err. &       t & P$> |$t$|$ &  [0.025 &  0.975]  \\\\\n",
       "\\hline\n",
       "Intercept        &  2.2781 &   0.1641 & 13.8820 &      0.0000 &  1.9560 &  2.6001  \\\\\n",
       "Gender[T.1]      &  0.0284 &   0.0299 &  0.9484 &      0.3432 & -0.0303 &  0.0871  \\\\\n",
       "Mar\\_status[T.1] & -0.1380 &   0.0294 & -4.6990 &      0.0000 & -0.1956 & -0.0803  \\\\\n",
       "Job\\_status[T.1] & -0.0001 &   0.0478 & -0.0018 &      0.9986 & -0.0939 &  0.0938  \\\\\n",
       "Age              & -0.0035 &   0.0019 & -1.8099 &      0.0706 & -0.0073 &  0.0003  \\\\\n",
       "Edu\\_years       & -0.0088 &   0.0048 & -1.8403 &      0.0660 & -0.0181 &  0.0006  \\\\\n",
       "Rate\\_health     & -0.0964 &   0.0164 & -5.8667 &      0.0000 & -0.1286 & -0.0641  \\\\\n",
       "ADL              &  0.0209 &   0.0152 &  1.3747 &      0.1696 & -0.0089 &  0.0506  \\\\\n",
       "IADL             & -0.0029 &   0.0174 & -0.1675 &      0.8670 & -0.0371 &  0.0313  \\\\\n",
       "\\hline\n",
       "\\end{tabular}\n",
       "\\end{center}\n",
       "\n",
       "\\begin{center}\n",
       "\\begin{tabular}{llll}\n",
       "\\hline\n",
       "Omnibus:       & 52.166 & Durbin-Watson:    & 1.788   \\\\\n",
       "Prob(Omnibus): & 0.000  & Jarque-Bera (JB): & 58.728  \\\\\n",
       "Skew:          & 0.597  & Prob(JB):         & 0.000   \\\\\n",
       "Kurtosis:      & 2.749  & Condition No.:    & 907     \\\\\n",
       "\\hline\n",
       "\\end{tabular}\n",
       "\\end{center}\n",
       "\\end{table}\n",
       "\\bigskip\n",
       "Notes: \\newline \n",
       "[1] Standard Errors assume that the covariance matrix of the errors is correctly specified."
      ],
      "text/plain": [
       "<class 'statsmodels.iolib.summary2.Summary'>\n",
       "\"\"\"\n",
       "                 Results: Ordinary least squares\n",
       "==================================================================\n",
       "Model:              OLS              Adj. R-squared:     0.080    \n",
       "Dependent Variable: Loneliness       AIC:                1108.4736\n",
       "Date:               2025-09-04 22:13 BIC:                1152.1533\n",
       "No. Observations:   947              Log-Likelihood:     -545.24  \n",
       "Df Model:           8                F-statistic:        11.25    \n",
       "Df Residuals:       938              Prob (F-statistic): 2.70e-15 \n",
       "R-squared:          0.088            Scale:              0.18697  \n",
       "------------------------------------------------------------------\n",
       "                    Coef.  Std.Err.    t    P>|t|   [0.025  0.975]\n",
       "------------------------------------------------------------------\n",
       "Intercept           2.2781   0.1641 13.8820 0.0000  1.9560  2.6001\n",
       "Gender[T.1]         0.0284   0.0299  0.9484 0.3432 -0.0303  0.0871\n",
       "Mar_status[T.1]    -0.1380   0.0294 -4.6990 0.0000 -0.1956 -0.0803\n",
       "Job_status[T.1]    -0.0001   0.0478 -0.0018 0.9986 -0.0939  0.0938\n",
       "Age                -0.0035   0.0019 -1.8099 0.0706 -0.0073  0.0003\n",
       "Edu_years          -0.0088   0.0048 -1.8403 0.0660 -0.0181  0.0006\n",
       "Rate_health        -0.0964   0.0164 -5.8667 0.0000 -0.1286 -0.0641\n",
       "ADL                 0.0209   0.0152  1.3747 0.1696 -0.0089  0.0506\n",
       "IADL               -0.0029   0.0174 -0.1675 0.8670 -0.0371  0.0313\n",
       "------------------------------------------------------------------\n",
       "Omnibus:               52.166       Durbin-Watson:          1.788 \n",
       "Prob(Omnibus):         0.000        Jarque-Bera (JB):       58.728\n",
       "Skew:                  0.597        Prob(JB):               0.000 \n",
       "Kurtosis:              2.749        Condition No.:          907   \n",
       "==================================================================\n",
       "Notes:\n",
       "[1] Standard Errors assume that the covariance matrix of the\n",
       "errors is correctly specified.\n",
       "\"\"\""
      ]
     },
     "execution_count": 50,
     "metadata": {},
     "output_type": "execute_result"
    }
   ],
   "source": [
    "model0 = ols(\"Loneliness ~ Age + Gender +  Edu_years + Mar_status + Job_status + Rate_health + ADL + IADL\", \n",
    "             data = dt_linear_reg_lon).fit()\n",
    "model0.summary2()"
   ]
  },
  {
   "cell_type": "code",
   "execution_count": 51,
   "id": "52879b95-1309-4e4b-8cf8-6524bd38ad76",
   "metadata": {},
   "outputs": [
    {
     "data": {
      "text/html": [
       "<table class=\"simpletable\">\n",
       "<tr>\n",
       "        <td>Model:</td>               <td>OLS</td>         <td>Adj. R-squared:</td>     <td>0.272</td> \n",
       "</tr>\n",
       "<tr>\n",
       "  <td>Dependent Variable:</td>    <td>Loneliness</td>           <td>AIC:</td>         <td>891.0838</td>\n",
       "</tr>\n",
       "<tr>\n",
       "         <td>Date:</td>        <td>2025-09-04 22:13</td>        <td>BIC:</td>         <td>954.1767</td>\n",
       "</tr>\n",
       "<tr>\n",
       "   <td>No. Observations:</td>         <td>947</td>         <td>Log-Likelihood:</td>    <td>-432.54</td>\n",
       "</tr>\n",
       "<tr>\n",
       "       <td>Df Model:</td>             <td>12</td>           <td>F-statistic:</td>       <td>30.39</td> \n",
       "</tr>\n",
       "<tr>\n",
       "     <td>Df Residuals:</td>           <td>934</td>       <td>Prob (F-statistic):</td> <td>4.78e-59</td>\n",
       "</tr>\n",
       "<tr>\n",
       "      <td>R-squared:</td>            <td>0.281</td>            <td>Scale:</td>         <td>0.14800</td>\n",
       "</tr>\n",
       "</table>\n",
       "<table class=\"simpletable\">\n",
       "<tr>\n",
       "             <td></td>             <th>Coef.</th>  <th>Std.Err.</th>    <th>t</th>     <th>P>|t|</th> <th>[0.025</th>  <th>0.975]</th> \n",
       "</tr>\n",
       "<tr>\n",
       "  <th>Intercept</th>              <td>1.4427</td>   <td>0.1663</td>  <td>8.6757</td>  <td>0.0000</td> <td>1.1164</td>  <td>1.7691</td> \n",
       "</tr>\n",
       "<tr>\n",
       "  <th>Gender[T.1]</th>            <td>-0.0345</td>  <td>0.0270</td>  <td>-1.2754</td> <td>0.2025</td> <td>-0.0876</td> <td>0.0186</td> \n",
       "</tr>\n",
       "<tr>\n",
       "  <th>Mar_status[T.1]</th>        <td>-0.0906</td>  <td>0.0263</td>  <td>-3.4405</td> <td>0.0006</td> <td>-0.1423</td> <td>-0.0389</td>\n",
       "</tr>\n",
       "<tr>\n",
       "  <th>Job_status[T.1]</th>        <td>-0.0247</td>  <td>0.0426</td>  <td>-0.5785</td> <td>0.5630</td> <td>-0.1084</td> <td>0.0590</td> \n",
       "</tr>\n",
       "<tr>\n",
       "  <th>Age</th>                    <td>0.0014</td>   <td>0.0018</td>  <td>0.7847</td>  <td>0.4328</td> <td>-0.0021</td> <td>0.0048</td> \n",
       "</tr>\n",
       "<tr>\n",
       "  <th>Edu_years</th>              <td>-0.0029</td>  <td>0.0043</td>  <td>-0.6643</td> <td>0.5067</td> <td>-0.0114</td> <td>0.0056</td> \n",
       "</tr>\n",
       "<tr>\n",
       "  <th>Subjective_younger</th>     <td>-0.0662</td>  <td>0.0280</td>  <td>-2.3639</td> <td>0.0183</td> <td>-0.1211</td> <td>-0.0112</td>\n",
       "</tr>\n",
       "<tr>\n",
       "  <th>Rate_health</th>            <td>-0.0576</td>  <td>0.0150</td>  <td>-3.8453</td> <td>0.0001</td> <td>-0.0871</td> <td>-0.0282</td>\n",
       "</tr>\n",
       "<tr>\n",
       "  <th>ADL</th>                    <td>0.0067</td>   <td>0.0136</td>  <td>0.4943</td>  <td>0.6212</td> <td>-0.0199</td> <td>0.0333</td> \n",
       "</tr>\n",
       "<tr>\n",
       "  <th>IADL</th>                   <td>-0.0035</td>  <td>0.0155</td>  <td>-0.2244</td> <td>0.8225</td> <td>-0.0339</td> <td>0.0270</td> \n",
       "</tr>\n",
       "<tr>\n",
       "  <th>Distrust</th>               <td>0.1023</td>   <td>0.0122</td>  <td>8.3729</td>  <td>0.0000</td> <td>0.0784</td>  <td>0.1263</td> \n",
       "</tr>\n",
       "<tr>\n",
       "  <th>Ageism</th>                 <td>0.1682</td>   <td>0.0193</td>  <td>8.7254</td>  <td>0.0000</td> <td>0.1304</td>  <td>0.2061</td> \n",
       "</tr>\n",
       "<tr>\n",
       "  <th>Community_Satisfaction</th> <td>-0.0400</td>  <td>0.0099</td>  <td>-4.0454</td> <td>0.0001</td> <td>-0.0594</td> <td>-0.0206</td>\n",
       "</tr>\n",
       "</table>\n",
       "<table class=\"simpletable\">\n",
       "<tr>\n",
       "     <td>Omnibus:</td>    <td>35.263</td>  <td>Durbin-Watson:</td>    <td>1.860</td>\n",
       "</tr>\n",
       "<tr>\n",
       "  <td>Prob(Omnibus):</td>  <td>0.000</td> <td>Jarque-Bera (JB):</td> <td>38.476</td>\n",
       "</tr>\n",
       "<tr>\n",
       "       <td>Skew:</td>      <td>0.493</td>     <td>Prob(JB):</td>      <td>0.000</td>\n",
       "</tr>\n",
       "<tr>\n",
       "     <td>Kurtosis:</td>    <td>3.058</td>  <td>Condition No.:</td>    <td>1037</td> \n",
       "</tr>\n",
       "</table><br/>\n",
       "Notes:<br/>\n",
       "[1] Standard Errors assume that the covariance matrix of the errors is correctly specified.<br/>\n",
       "[2] The condition number is large, 1.04e+03. This might indicate                that there are strong multicollinearity or other numerical                problems."
      ],
      "text/latex": [
       "\\begin{table}\n",
       "\\caption{Results: Ordinary least squares}\n",
       "\\label{}\n",
       "\\begin{center}\n",
       "\\begin{tabular}{llll}\n",
       "\\hline\n",
       "Model:              & OLS              & Adj. R-squared:     & 0.272     \\\\\n",
       "Dependent Variable: & Loneliness       & AIC:                & 891.0838  \\\\\n",
       "Date:               & 2025-09-04 22:13 & BIC:                & 954.1767  \\\\\n",
       "No. Observations:   & 947              & Log-Likelihood:     & -432.54   \\\\\n",
       "Df Model:           & 12               & F-statistic:        & 30.39     \\\\\n",
       "Df Residuals:       & 934              & Prob (F-statistic): & 4.78e-59  \\\\\n",
       "R-squared:          & 0.281            & Scale:              & 0.14800   \\\\\n",
       "\\hline\n",
       "\\end{tabular}\n",
       "\\end{center}\n",
       "\n",
       "\\begin{center}\n",
       "\\begin{tabular}{lrrrrrr}\n",
       "\\hline\n",
       "                        &   Coef. & Std.Err. &       t & P$> |$t$|$ &  [0.025 &  0.975]  \\\\\n",
       "\\hline\n",
       "Intercept               &  1.4427 &   0.1663 &  8.6757 &      0.0000 &  1.1164 &  1.7691  \\\\\n",
       "Gender[T.1]             & -0.0345 &   0.0270 & -1.2754 &      0.2025 & -0.0876 &  0.0186  \\\\\n",
       "Mar\\_status[T.1]        & -0.0906 &   0.0263 & -3.4405 &      0.0006 & -0.1423 & -0.0389  \\\\\n",
       "Job\\_status[T.1]        & -0.0247 &   0.0426 & -0.5785 &      0.5630 & -0.1084 &  0.0590  \\\\\n",
       "Age                     &  0.0014 &   0.0018 &  0.7847 &      0.4328 & -0.0021 &  0.0048  \\\\\n",
       "Edu\\_years              & -0.0029 &   0.0043 & -0.6643 &      0.5067 & -0.0114 &  0.0056  \\\\\n",
       "Subjective\\_younger     & -0.0662 &   0.0280 & -2.3639 &      0.0183 & -0.1211 & -0.0112  \\\\\n",
       "Rate\\_health            & -0.0576 &   0.0150 & -3.8453 &      0.0001 & -0.0871 & -0.0282  \\\\\n",
       "ADL                     &  0.0067 &   0.0136 &  0.4943 &      0.6212 & -0.0199 &  0.0333  \\\\\n",
       "IADL                    & -0.0035 &   0.0155 & -0.2244 &      0.8225 & -0.0339 &  0.0270  \\\\\n",
       "Distrust                &  0.1023 &   0.0122 &  8.3729 &      0.0000 &  0.0784 &  0.1263  \\\\\n",
       "Ageism                  &  0.1682 &   0.0193 &  8.7254 &      0.0000 &  0.1304 &  0.2061  \\\\\n",
       "Community\\_Satisfaction & -0.0400 &   0.0099 & -4.0454 &      0.0001 & -0.0594 & -0.0206  \\\\\n",
       "\\hline\n",
       "\\end{tabular}\n",
       "\\end{center}\n",
       "\n",
       "\\begin{center}\n",
       "\\begin{tabular}{llll}\n",
       "\\hline\n",
       "Omnibus:       & 35.263 & Durbin-Watson:    & 1.860   \\\\\n",
       "Prob(Omnibus): & 0.000  & Jarque-Bera (JB): & 38.476  \\\\\n",
       "Skew:          & 0.493  & Prob(JB):         & 0.000   \\\\\n",
       "Kurtosis:      & 3.058  & Condition No.:    & 1037    \\\\\n",
       "\\hline\n",
       "\\end{tabular}\n",
       "\\end{center}\n",
       "\\end{table}\n",
       "\\bigskip\n",
       "Notes: \\newline \n",
       "[1] Standard Errors assume that the covariance matrix of the errors is correctly specified. \\newline \n",
       "[2] The condition number is large, 1.04e+03. This might indicate                that there are strong multicollinearity or other numerical                problems."
      ],
      "text/plain": [
       "<class 'statsmodels.iolib.summary2.Summary'>\n",
       "\"\"\"\n",
       "                   Results: Ordinary least squares\n",
       "======================================================================\n",
       "Model:                 OLS               Adj. R-squared:      0.272   \n",
       "Dependent Variable:    Loneliness        AIC:                 891.0838\n",
       "Date:                  2025-09-04 22:13  BIC:                 954.1767\n",
       "No. Observations:      947               Log-Likelihood:      -432.54 \n",
       "Df Model:              12                F-statistic:         30.39   \n",
       "Df Residuals:          934               Prob (F-statistic):  4.78e-59\n",
       "R-squared:             0.281             Scale:               0.14800 \n",
       "----------------------------------------------------------------------\n",
       "                        Coef.  Std.Err.    t    P>|t|   [0.025  0.975]\n",
       "----------------------------------------------------------------------\n",
       "Intercept               1.4427   0.1663  8.6757 0.0000  1.1164  1.7691\n",
       "Gender[T.1]            -0.0345   0.0270 -1.2754 0.2025 -0.0876  0.0186\n",
       "Mar_status[T.1]        -0.0906   0.0263 -3.4405 0.0006 -0.1423 -0.0389\n",
       "Job_status[T.1]        -0.0247   0.0426 -0.5785 0.5630 -0.1084  0.0590\n",
       "Age                     0.0014   0.0018  0.7847 0.4328 -0.0021  0.0048\n",
       "Edu_years              -0.0029   0.0043 -0.6643 0.5067 -0.0114  0.0056\n",
       "Subjective_younger     -0.0662   0.0280 -2.3639 0.0183 -0.1211 -0.0112\n",
       "Rate_health            -0.0576   0.0150 -3.8453 0.0001 -0.0871 -0.0282\n",
       "ADL                     0.0067   0.0136  0.4943 0.6212 -0.0199  0.0333\n",
       "IADL                   -0.0035   0.0155 -0.2244 0.8225 -0.0339  0.0270\n",
       "Distrust                0.1023   0.0122  8.3729 0.0000  0.0784  0.1263\n",
       "Ageism                  0.1682   0.0193  8.7254 0.0000  0.1304  0.2061\n",
       "Community_Satisfaction -0.0400   0.0099 -4.0454 0.0001 -0.0594 -0.0206\n",
       "----------------------------------------------------------------------\n",
       "Omnibus:               35.263         Durbin-Watson:            1.860 \n",
       "Prob(Omnibus):         0.000          Jarque-Bera (JB):         38.476\n",
       "Skew:                  0.493          Prob(JB):                 0.000 \n",
       "Kurtosis:              3.058          Condition No.:            1037  \n",
       "======================================================================\n",
       "Notes:\n",
       "[1] Standard Errors assume that the covariance matrix of the errors is\n",
       "correctly specified.\n",
       "[2] The condition number is large, 1.04e+03. This might indicate\n",
       "that there are strong multicollinearity or other numerical\n",
       "problems.\n",
       "\"\"\""
      ]
     },
     "execution_count": 51,
     "metadata": {},
     "output_type": "execute_result"
    }
   ],
   "source": [
    "model1 = ols(\"Loneliness ~ Age + Gender +  Edu_years + Mar_status + Job_status + Subjective_younger + Rate_health + ADL + IADL + Distrust + Ageism + Community_Satisfaction\", \n",
    "             data = dt_linear_reg_lon).fit()\n",
    "model1.summary2()"
   ]
  },
  {
   "cell_type": "code",
   "execution_count": 52,
   "id": "fc41de4b-df5f-4627-8475-990e816b18f6",
   "metadata": {},
   "outputs": [
    {
     "name": "stdout",
     "output_type": "stream",
     "text": [
      "int32\n",
      "[0 1]\n"
     ]
    }
   ],
   "source": [
    "print(dt_linear_reg_lon[\"Subjective_younger\"].dtype)\n",
    "print(dt_linear_reg_lon[\"Subjective_younger\"].unique())"
   ]
  },
  {
   "cell_type": "code",
   "execution_count": null,
   "id": "23ffa963-2e34-4f27-85f8-7c2dcc14e735",
   "metadata": {},
   "outputs": [],
   "source": [
    "VIF"
   ]
  },
  {
   "cell_type": "code",
   "execution_count": 53,
   "id": "bd791beb-1817-47ec-b74b-6e4e273fa9d1",
   "metadata": {},
   "outputs": [
    {
     "name": "stdout",
     "output_type": "stream",
     "text": [
      "Age                       0\n",
      "Edu_years                 0\n",
      "Subjective_younger        0\n",
      "Rate_health               0\n",
      "ADL                       0\n",
      "IADL                      0\n",
      "Distrust                  0\n",
      "Ageism                    0\n",
      "Community_Satisfaction    0\n",
      "Gender_1                  0\n",
      "Mar_status_1              0\n",
      "Job_status_1              0\n",
      "dtype: int64\n",
      "                  Variable    VIF\n",
      "6                     IADL 1.4902\n",
      "5                      ADL 1.4545\n",
      "4              Rate_health 1.2690\n",
      "7                 Distrust 1.1928\n",
      "9   Community_Satisfaction 1.1574\n",
      "8                   Ageism 1.1328\n",
      "2                Edu_years 1.1099\n",
      "1                      Age 1.1056\n",
      "10                Gender_1 1.1055\n",
      "11            Mar_status_1 1.0983\n",
      "12            Job_status_1 1.0797\n",
      "3       Subjective_younger 1.0770\n"
     ]
    }
   ],
   "source": [
    "vars_for_vif = [\n",
    "    \"Age\", \"Gender\", \"Edu_years\", \"Mar_status\", \"Job_status\", \n",
    "    \"Subjective_younger\", \"Rate_health\", \"ADL\", \"IADL\", \n",
    "    \"Distrust\", \"Ageism\", \"Community_Satisfaction\"\n",
    "]\n",
    "\n",
    "num_vars = dt_linear_reg_lon[vars_for_vif].select_dtypes(include=[\"int64\", \"int32\", \"float64\"])\n",
    "cat_vars = dt_linear_reg_lon[vars_for_vif].select_dtypes(include=[\"category\", \"object\"])\n",
    "\n",
    "cat_dummies = pd.get_dummies(cat_vars, drop_first=True)\n",
    "\n",
    "variables = pd.concat([num_vars, cat_dummies], axis=1).astype(float)\n",
    "\n",
    "X = sm.add_constant(variables)\n",
    "\n",
    "print(variables.isna().sum())\n",
    "\n",
    "vif = pd.DataFrame()\n",
    "vif[\"Variable\"] = X.columns\n",
    "vif[\"VIF\"] = [variance_inflation_factor(X.values, i) for i in range(X.shape[1])]\n",
    "\n",
    "vif = vif[vif[\"Variable\"] != \"const\"]\n",
    "print(vif.sort_values(\"VIF\", ascending=False))"
   ]
  },
  {
   "cell_type": "code",
   "execution_count": null,
   "id": "d0960fdf-7831-45fd-ae0a-7ad7e34cb043",
   "metadata": {},
   "outputs": [],
   "source": [
    "Moderation Model"
   ]
  },
  {
   "cell_type": "code",
   "execution_count": 54,
   "id": "31f96be0-f8cc-42c3-b40e-ed70226dd7d3",
   "metadata": {},
   "outputs": [],
   "source": [
    "dt_linear_reg_lon[\"Distrust_c\"] = dt_linear_reg_lon[\"Distrust\"] - dt_linear_reg_lon[\"Distrust\"].mean()\n",
    "dt_linear_reg_lon[\"Ageism_c\"] = dt_linear_reg_lon[\"Ageism\"] - dt_linear_reg_lon[\"Ageism\"].mean()\n",
    "dt_linear_reg_lon[\"Community_Satisfaction_c\"] = dt_linear_reg_lon[\"Community_Satisfaction\"] - dt_linear_reg_lon[\"Community_Satisfaction\"].mean()"
   ]
  },
  {
   "cell_type": "code",
   "execution_count": 55,
   "id": "ce413273-090d-4721-9187-a6c36445c038",
   "metadata": {},
   "outputs": [
    {
     "name": "stdout",
     "output_type": "stream",
     "text": [
      "                            OLS Regression Results                            \n",
      "==============================================================================\n",
      "Dep. Variable:             Loneliness   R-squared:                       0.296\n",
      "Model:                            OLS   Adj. R-squared:                  0.283\n",
      "Method:                 Least Squares   F-statistic:                     24.39\n",
      "Date:                Thu, 04 Sep 2025   Prob (F-statistic):           3.51e-60\n",
      "Time:                        22:13:49   Log-Likelihood:                -422.72\n",
      "No. Observations:                 947   AIC:                             879.4\n",
      "Df Residuals:                     930   BIC:                             961.9\n",
      "Df Model:                          16                                         \n",
      "Covariance Type:            nonrobust                                         \n",
      "======================================================================================================\n",
      "                                         coef    std err          t      P>|t|      [0.025      0.975]\n",
      "------------------------------------------------------------------------------------------------------\n",
      "Intercept                              1.8081      0.151     11.949      0.000       1.511       2.105\n",
      "Gender[T.1]                           -0.0321      0.027     -1.190      0.234      -0.085       0.021\n",
      "Mar_status[T.1]                       -0.0906      0.026     -3.468      0.001      -0.142      -0.039\n",
      "Job_status[T.1]                       -0.0193      0.042     -0.456      0.648      -0.102       0.064\n",
      "Age                                    0.0008      0.002      0.483      0.629      -0.003       0.004\n",
      "Edu_years                             -0.0007      0.004     -0.171      0.864      -0.009       0.008\n",
      "Subjective_younger                    -0.0677      0.028     -2.437      0.015      -0.122      -0.013\n",
      "Rate_health                           -0.0575      0.015     -3.863      0.000      -0.087      -0.028\n",
      "ADL                                    0.0077      0.013      0.570      0.569      -0.019       0.034\n",
      "IADL                                  -0.0017      0.015     -0.108      0.914      -0.032       0.029\n",
      "Distrust_c                             0.1183      0.014      8.474      0.000       0.091       0.146\n",
      "Volunteer                             -0.1003      0.030     -3.387      0.001      -0.158      -0.042\n",
      "Distrust_c:Volunteer                  -0.0713      0.027     -2.631      0.009      -0.124      -0.018\n",
      "Ageism_c                               0.1585      0.022      7.246      0.000       0.116       0.201\n",
      "Ageism_c:Volunteer                     0.0452      0.044      1.022      0.307      -0.042       0.132\n",
      "Community_Satisfaction_c              -0.0451      0.011     -4.029      0.000      -0.067      -0.023\n",
      "Community_Satisfaction_c:Volunteer     0.0234      0.023      1.031      0.303      -0.021       0.068\n",
      "==============================================================================\n",
      "Omnibus:                       34.633   Durbin-Watson:                   1.858\n",
      "Prob(Omnibus):                  0.000   Jarque-Bera (JB):               37.518\n",
      "Skew:                           0.481   Prob(JB):                     7.13e-09\n",
      "Kurtosis:                       3.156   Cond. No.                         949.\n",
      "==============================================================================\n",
      "\n",
      "Notes:\n",
      "[1] Standard Errors assume that the covariance matrix of the errors is correctly specified.\n"
     ]
    }
   ],
   "source": [
    "formula = \"\"\"\n",
    "Loneliness ~ Age + Gender + Edu_years + Mar_status + Job_status + Subjective_younger + Rate_health + ADL + IADL\n",
    "            + Distrust_c * Volunteer\n",
    "            + Ageism_c * Volunteer\n",
    "            + Community_Satisfaction_c * Volunteer\n",
    "\"\"\"\n",
    "\n",
    "model2 = ols(formula, data=dt_linear_reg_lon).fit()\n",
    "print(model2.summary())"
   ]
  },
  {
   "cell_type": "code",
   "execution_count": 56,
   "id": "ba22123f-19d6-4646-ad5e-2c298887792e",
   "metadata": {},
   "outputs": [
    {
     "name": "stdout",
     "output_type": "stream",
     "text": [
      "                            OLS Regression Results                            \n",
      "==============================================================================\n",
      "Dep. Variable:             Loneliness   R-squared:                       0.298\n",
      "Model:                            OLS   Adj. R-squared:                  0.286\n",
      "Method:                 Least Squares   F-statistic:                     24.73\n",
      "Date:                Thu, 04 Sep 2025   Prob (F-statistic):           5.53e-61\n",
      "Time:                        22:13:49   Log-Likelihood:                -420.76\n",
      "No. Observations:                 947   AIC:                             875.5\n",
      "Df Residuals:                     930   BIC:                             958.0\n",
      "Df Model:                          16                                         \n",
      "Covariance Type:            nonrobust                                         \n",
      "========================================================================================================\n",
      "                                           coef    std err          t      P>|t|      [0.025      0.975]\n",
      "--------------------------------------------------------------------------------------------------------\n",
      "Intercept                                1.7689      0.150     11.783      0.000       1.474       2.063\n",
      "Gender[T.1]                             -0.0266      0.027     -0.988      0.323      -0.079       0.026\n",
      "Mar_status[T.1]                         -0.0895      0.026     -3.423      0.001      -0.141      -0.038\n",
      "Job_status[T.1]                         -0.0183      0.042     -0.432      0.666      -0.101       0.065\n",
      "Age                                      0.0013      0.002      0.725      0.469      -0.002       0.005\n",
      "Edu_years                                0.0004      0.004      0.083      0.934      -0.008       0.009\n",
      "Subjective_younger                      -0.0605      0.028     -2.182      0.029      -0.115      -0.006\n",
      "Rate_health                             -0.0542      0.015     -3.642      0.000      -0.083      -0.025\n",
      "ADL                                      0.0051      0.013      0.383      0.702      -0.021       0.032\n",
      "IADL                                    -0.0046      0.015     -0.296      0.768      -0.035       0.026\n",
      "Distrust_c                               0.1175      0.015      7.643      0.000       0.087       0.148\n",
      "Attend_Club                             -0.1125      0.027     -4.234      0.000      -0.165      -0.060\n",
      "Distrust_c:Attend_Club                  -0.0587      0.025     -2.389      0.017      -0.107      -0.010\n",
      "Ageism_c                                 0.1830      0.026      7.053      0.000       0.132       0.234\n",
      "Ageism_c:Attend_Club                    -0.0085      0.038     -0.223      0.824      -0.084       0.067\n",
      "Community_Satisfaction_c                -0.0390      0.012     -3.212      0.001      -0.063      -0.015\n",
      "Community_Satisfaction_c:Attend_Club     0.0029      0.020      0.146      0.884      -0.037       0.042\n",
      "==============================================================================\n",
      "Omnibus:                       34.078   Durbin-Watson:                   1.873\n",
      "Prob(Omnibus):                  0.000   Jarque-Bera (JB):               37.172\n",
      "Skew:                           0.485   Prob(JB):                     8.47e-09\n",
      "Kurtosis:                       2.998   Cond. No.                         943.\n",
      "==============================================================================\n",
      "\n",
      "Notes:\n",
      "[1] Standard Errors assume that the covariance matrix of the errors is correctly specified.\n"
     ]
    }
   ],
   "source": [
    "formula = \"\"\"\n",
    "Loneliness ~ Age + Gender + Edu_years + Mar_status + Job_status + Subjective_younger + Rate_health + ADL + IADL\n",
    "            + Distrust_c * Attend_Club\n",
    "            + Ageism_c * Attend_Club\n",
    "            + Community_Satisfaction_c * Attend_Club\n",
    "\"\"\"\n",
    "\n",
    "model3 = ols(formula, data=dt_linear_reg_lon).fit()\n",
    "print(model3.summary())"
   ]
  },
  {
   "cell_type": "code",
   "execution_count": 57,
   "id": "f104c6de-c220-4552-956c-70c80e342522",
   "metadata": {},
   "outputs": [
    {
     "name": "stdout",
     "output_type": "stream",
     "text": [
      "                            OLS Regression Results                            \n",
      "==============================================================================\n",
      "Dep. Variable:             Loneliness   R-squared:                       0.290\n",
      "Model:                            OLS   Adj. R-squared:                  0.277\n",
      "Method:                 Least Squares   F-statistic:                     23.70\n",
      "Date:                Thu, 04 Sep 2025   Prob (F-statistic):           1.52e-58\n",
      "Time:                        22:13:49   Log-Likelihood:                -426.69\n",
      "No. Observations:                 947   AIC:                             887.4\n",
      "Df Residuals:                     930   BIC:                             969.9\n",
      "Df Model:                          16                                         \n",
      "Covariance Type:            nonrobust                                         \n",
      "===========================================================================================================\n",
      "                                              coef    std err          t      P>|t|      [0.025      0.975]\n",
      "-----------------------------------------------------------------------------------------------------------\n",
      "Intercept                                   1.8201      0.152     11.994      0.000       1.522       2.118\n",
      "Gender[T.1]                                -0.0322      0.027     -1.194      0.233      -0.085       0.021\n",
      "Mar_status[T.1]                            -0.0864      0.026     -3.284      0.001      -0.138      -0.035\n",
      "Job_status[T.1]                            -0.0304      0.043     -0.715      0.475      -0.114       0.053\n",
      "Age                                         0.0009      0.002      0.531      0.596      -0.003       0.004\n",
      "Edu_years                                  -0.0017      0.004     -0.382      0.702      -0.010       0.007\n",
      "Subjective_younger                         -0.0628      0.028     -2.240      0.025      -0.118      -0.008\n",
      "Rate_health                                -0.0547      0.015     -3.651      0.000      -0.084      -0.025\n",
      "ADL                                         0.0060      0.014      0.447      0.655      -0.020       0.033\n",
      "IADL                                       -0.0071      0.016     -0.455      0.649      -0.038       0.023\n",
      "Distrust_c                                  0.1292      0.018      7.050      0.000       0.093       0.165\n",
      "Sport_Exercise                             -0.0636      0.027     -2.371      0.018      -0.116      -0.011\n",
      "Distrust_c:Sport_Exercise                  -0.0514      0.024     -2.132      0.033      -0.099      -0.004\n",
      "Ageism_c                                    0.1829      0.030      6.048      0.000       0.124       0.242\n",
      "Ageism_c:Sport_Exercise                    -0.0153      0.039     -0.395      0.693      -0.091       0.061\n",
      "Community_Satisfaction_c                   -0.0264      0.014     -1.823      0.069      -0.055       0.002\n",
      "Community_Satisfaction_c:Sport_Exercise    -0.0237      0.019     -1.219      0.223      -0.062       0.014\n",
      "==============================================================================\n",
      "Omnibus:                       34.292   Durbin-Watson:                   1.860\n",
      "Prob(Omnibus):                  0.000   Jarque-Bera (JB):               37.300\n",
      "Skew:                           0.485   Prob(JB):                     7.95e-09\n",
      "Kurtosis:                       3.060   Cond. No.                         947.\n",
      "==============================================================================\n",
      "\n",
      "Notes:\n",
      "[1] Standard Errors assume that the covariance matrix of the errors is correctly specified.\n"
     ]
    }
   ],
   "source": [
    "formula = \"\"\"\n",
    "Loneliness ~ Age + Gender + Edu_years + Mar_status + Job_status + Subjective_younger + Rate_health + ADL + IADL\n",
    "            + Distrust_c * Sport_Exercise\n",
    "            + Ageism_c * Sport_Exercise\n",
    "            + Community_Satisfaction_c * Sport_Exercise\n",
    "\"\"\"\n",
    "\n",
    "model4 = ols(formula, data=dt_linear_reg_lon).fit()\n",
    "print(model4.summary())"
   ]
  },
  {
   "cell_type": "code",
   "execution_count": 58,
   "id": "819e482b-9e86-4014-ad9e-647e013efbc7",
   "metadata": {},
   "outputs": [
    {
     "name": "stdout",
     "output_type": "stream",
     "text": [
      "                            OLS Regression Results                            \n",
      "==============================================================================\n",
      "Dep. Variable:             Loneliness   R-squared:                       0.288\n",
      "Model:                            OLS   Adj. R-squared:                  0.276\n",
      "Method:                 Least Squares   F-statistic:                     23.52\n",
      "Date:                Thu, 04 Sep 2025   Prob (F-statistic):           4.00e-58\n",
      "Time:                        22:13:49   Log-Likelihood:                -427.72\n",
      "No. Observations:                 947   AIC:                             889.4\n",
      "Df Residuals:                     930   BIC:                             971.9\n",
      "Df Model:                          16                                         \n",
      "Covariance Type:            nonrobust                                         \n",
      "=====================================================================================================\n",
      "                                        coef    std err          t      P>|t|      [0.025      0.975]\n",
      "-----------------------------------------------------------------------------------------------------\n",
      "Intercept                             1.8263      0.153     11.970      0.000       1.527       2.126\n",
      "Gender[T.1]                          -0.0279      0.027     -1.028      0.304      -0.081       0.025\n",
      "Mar_status[T.1]                      -0.0899      0.026     -3.402      0.001      -0.142      -0.038\n",
      "Job_status[T.1]                      -0.0264      0.043     -0.621      0.534      -0.110       0.057\n",
      "Age                                   0.0012      0.002      0.684      0.494      -0.002       0.005\n",
      "Edu_years                            -0.0028      0.004     -0.636      0.525      -0.011       0.006\n",
      "Subjective_younger                   -0.0590      0.028     -2.103      0.036      -0.114      -0.004\n",
      "Rate_health                          -0.0527      0.015     -3.459      0.001      -0.083      -0.023\n",
      "ADL                                   0.0043      0.014      0.321      0.749      -0.022       0.031\n",
      "IADL                                 -0.0070      0.016     -0.449      0.653      -0.037       0.024\n",
      "Distrust_c                            0.1099      0.026      4.229      0.000       0.059       0.161\n",
      "WALK_20M                             -0.0730      0.032     -2.310      0.021      -0.135      -0.011\n",
      "Distrust_c:WALK_20M                  -0.0131      0.029     -0.450      0.653      -0.070       0.044\n",
      "Ageism_c                              0.1919      0.042      4.581      0.000       0.110       0.274\n",
      "Ageism_c:WALK_20M                    -0.0287      0.047     -0.610      0.542      -0.121       0.064\n",
      "Community_Satisfaction_c             -0.0642      0.021     -3.029      0.003      -0.106      -0.023\n",
      "Community_Satisfaction_c:WALK_20M     0.0308      0.024      1.294      0.196      -0.016       0.078\n",
      "==============================================================================\n",
      "Omnibus:                       35.017   Durbin-Watson:                   1.877\n",
      "Prob(Omnibus):                  0.000   Jarque-Bera (JB):               38.218\n",
      "Skew:                           0.492   Prob(JB):                     5.02e-09\n",
      "Kurtosis:                       3.040   Cond. No.                         952.\n",
      "==============================================================================\n",
      "\n",
      "Notes:\n",
      "[1] Standard Errors assume that the covariance matrix of the errors is correctly specified.\n"
     ]
    }
   ],
   "source": [
    "formula = \"\"\"\n",
    "Loneliness ~ Age + Gender + Edu_years + Mar_status + Job_status + Subjective_younger + Rate_health + ADL + IADL\n",
    "            + Distrust_c * WALK_20M\n",
    "            + Ageism_c * WALK_20M\n",
    "            + Community_Satisfaction_c * WALK_20M\n",
    "\"\"\"\n",
    "\n",
    "model5 = ols(formula, data=dt_linear_reg_lon).fit()\n",
    "print(model5.summary())"
   ]
  },
  {
   "cell_type": "code",
   "execution_count": null,
   "id": "f157197f-366e-4940-944b-30f56a31b931",
   "metadata": {},
   "outputs": [],
   "source": [
    "SEM(Path analysis)"
   ]
  },
  {
   "cell_type": "code",
   "execution_count": 59,
   "id": "dc77e386-e514-49bb-9558-9497229f088c",
   "metadata": {},
   "outputs": [
    {
     "name": "stdout",
     "output_type": "stream",
     "text": [
      "              lval  op                    rval  Estimate  Std. Err  z-value  \\\n",
      "0   Attitude_aging   ~                     Age   -0.0231    0.0037  -6.3179   \n",
      "1   Attitude_aging   ~                Gender_1    0.0161    0.0564   0.2861   \n",
      "2   Attitude_aging   ~               Edu_years   -0.0191    0.0090  -2.1133   \n",
      "3   Attitude_aging   ~            Mar_status_1   -0.0091    0.0549  -0.1654   \n",
      "4   Attitude_aging   ~            Job_status_1    0.0636    0.0889   0.7156   \n",
      "5   Attitude_aging   ~    Subjective_younger_1    0.3766    0.0583   6.4545   \n",
      "6   Attitude_aging   ~             Rate_health    0.2903    0.0312   9.2909   \n",
      "7   Attitude_aging   ~                     ADL   -0.0033    0.0283  -0.1185   \n",
      "8   Attitude_aging   ~                    IADL   -0.0484    0.0323  -1.4951   \n",
      "9   Attitude_aging   ~                Distrust   -0.0759    0.0255  -2.9785   \n",
      "10  Attitude_aging   ~                  Ageism   -0.1964    0.0402  -4.8858   \n",
      "11  Attitude_aging   ~  Community_Satisfaction    0.0201    0.0206   0.9748   \n",
      "12      Loneliness   ~                     Age   -0.0021    0.0017  -1.2532   \n",
      "13      Loneliness   ~                Gender_1   -0.0319    0.0255  -1.2523   \n",
      "14      Loneliness   ~               Edu_years   -0.0058    0.0041  -1.4104   \n",
      "15      Loneliness   ~            Mar_status_1   -0.0922    0.0248  -3.7159   \n",
      "16      Loneliness   ~            Job_status_1   -0.0149    0.0402  -0.3715   \n",
      "17      Loneliness   ~    Subjective_younger_1   -0.0092    0.0269  -0.3422   \n",
      "18      Loneliness   ~             Rate_health   -0.0138    0.0147  -0.9368   \n",
      "19      Loneliness   ~                     ADL    0.0062    0.0128   0.4838   \n",
      "20      Loneliness   ~                    IADL   -0.0108    0.0146  -0.7370   \n",
      "21      Loneliness   ~                Distrust    0.0909    0.0116   7.8547   \n",
      "22      Loneliness   ~                  Ageism    0.1386    0.0184   7.5373   \n",
      "23      Loneliness   ~  Community_Satisfaction   -0.0370    0.0093  -3.9657   \n",
      "24      Loneliness   ~          Attitude_aging   -0.1509    0.0147 -10.2755   \n",
      "25  Attitude_aging  ~~          Attitude_aging    0.6431    0.0296  21.7601   \n",
      "26      Loneliness  ~~              Loneliness    0.1313    0.0060  21.7601   \n",
      "\n",
      "    p-value  \n",
      "0    0.0000  \n",
      "1    0.7748  \n",
      "2    0.0346  \n",
      "3    0.8686  \n",
      "4    0.4742  \n",
      "5    0.0000  \n",
      "6    0.0000  \n",
      "7    0.9056  \n",
      "8    0.1349  \n",
      "9    0.0029  \n",
      "10   0.0000  \n",
      "11   0.3296  \n",
      "12   0.2101  \n",
      "13   0.2105  \n",
      "14   0.1584  \n",
      "15   0.0002  \n",
      "16   0.7103  \n",
      "17   0.7322  \n",
      "18   0.3489  \n",
      "19   0.6285  \n",
      "20   0.4611  \n",
      "21   0.0000  \n",
      "22   0.0000  \n",
      "23   0.0001  \n",
      "24   0.0000  \n",
      "25   0.0000  \n",
      "26   0.0000  \n"
     ]
    }
   ],
   "source": [
    "from semopy import Model\n",
    "\n",
    "dt_sem = pd.get_dummies(dt_linear_reg_lon, \n",
    "                        columns=[\"Gender\", \"Mar_status\", \"Job_status\", \"Subjective_younger\"], \n",
    "                        drop_first=True)\n",
    "\n",
    "dt_sem = dt_sem.astype(float)\n",
    "\n",
    "desc = \"\"\"\n",
    "Attitude_aging ~ Age + Gender_1 +  Edu_years + Mar_status_1 + Job_status_1 + Subjective_younger_1 + Rate_health + ADL + IADL + Distrust + Ageism + Community_Satisfaction \n",
    "\n",
    "Loneliness ~ Age + Gender_1 +  Edu_years + Mar_status_1 + Job_status_1 + Subjective_younger_1 + Rate_health + ADL + IADL + Distrust + Ageism + Community_Satisfaction + Attitude_aging\n",
    "\"\"\"\n",
    "\n",
    "modelp = Model(desc)\n",
    "modelp.fit(dt_sem)\n",
    "\n",
    "est = modelp.inspect()\n",
    "print(est)"
   ]
  },
  {
   "cell_type": "code",
   "execution_count": 60,
   "id": "ca0261c7-0fc0-4e2f-af77-33cecb80cf38",
   "metadata": {},
   "outputs": [
    {
     "name": "stdout",
     "output_type": "stream",
     "text": [
      "          lval op                   rval  Estimate  Std. Err  z-value  p-value\n",
      "Attitude_aging  ~                    Age   -0.0230    0.0040  -6.3180   0.0000\n",
      "Attitude_aging  ~               Gender_1    0.0160    0.0560   0.2860   0.7750\n",
      "Attitude_aging  ~              Edu_years   -0.0190    0.0090  -2.1130   0.0350\n",
      "Attitude_aging  ~           Mar_status_1   -0.0090    0.0550  -0.1650   0.8690\n",
      "Attitude_aging  ~           Job_status_1    0.0640    0.0890   0.7160   0.4740\n",
      "Attitude_aging  ~   Subjective_younger_1    0.3770    0.0580   6.4550   0.0000\n",
      "Attitude_aging  ~            Rate_health    0.2900    0.0310   9.2910   0.0000\n",
      "Attitude_aging  ~                    ADL   -0.0030    0.0280  -0.1190   0.9060\n",
      "Attitude_aging  ~                   IADL   -0.0480    0.0320  -1.4950   0.1350\n",
      "Attitude_aging  ~               Distrust   -0.0760    0.0250  -2.9790   0.0030\n",
      "Attitude_aging  ~                 Ageism   -0.1960    0.0400  -4.8860   0.0000\n",
      "Attitude_aging  ~ Community_Satisfaction    0.0200    0.0210   0.9750   0.3300\n",
      "Attitude_aging ~~         Attitude_aging    0.6430    0.0300  21.7600   0.0000\n",
      "    Loneliness  ~                    Age   -0.0020    0.0020  -1.2530   0.2100\n",
      "    Loneliness  ~               Gender_1   -0.0320    0.0250  -1.2520   0.2100\n",
      "    Loneliness  ~              Edu_years   -0.0060    0.0040  -1.4100   0.1580\n",
      "    Loneliness  ~           Mar_status_1   -0.0920    0.0250  -3.7160   0.0000\n",
      "    Loneliness  ~           Job_status_1   -0.0150    0.0400  -0.3710   0.7100\n",
      "    Loneliness  ~   Subjective_younger_1   -0.0090    0.0270  -0.3420   0.7320\n",
      "    Loneliness  ~            Rate_health   -0.0140    0.0150  -0.9370   0.3490\n",
      "    Loneliness  ~                    ADL    0.0060    0.0130   0.4840   0.6290\n",
      "    Loneliness  ~                   IADL   -0.0110    0.0150  -0.7370   0.4610\n",
      "    Loneliness  ~               Distrust    0.0910    0.0120   7.8550   0.0000\n",
      "    Loneliness  ~                 Ageism    0.1390    0.0180   7.5370   0.0000\n",
      "    Loneliness  ~ Community_Satisfaction   -0.0370    0.0090  -3.9660   0.0000\n",
      "    Loneliness  ~         Attitude_aging   -0.1510    0.0150 -10.2760   0.0000\n",
      "    Loneliness ~~             Loneliness    0.1310    0.0060  21.7600   0.0000\n"
     ]
    }
   ],
   "source": [
    "results = modelp.inspect()\n",
    "\n",
    "results = results[[\"lval\", \"op\", \"rval\", \"Estimate\", \"Std. Err\", \"z-value\", \"p-value\"]]\n",
    "\n",
    "results = results.round(3)\n",
    "\n",
    "results = results.sort_values(by=[\"lval\", \"op\"])\n",
    "\n",
    "print(results.to_string(index=False))"
   ]
  },
  {
   "cell_type": "code",
   "execution_count": 61,
   "id": "b74ce039-ac51-4903-99e7-346fe741611b",
   "metadata": {},
   "outputs": [
    {
     "name": "stdout",
     "output_type": "stream",
     "text": [
      "          AIC      BIC    CFI    TLI  RMSEA\n",
      "Value 54.0000 185.0391 1.0477 1.0630      0\n"
     ]
    }
   ],
   "source": [
    "from semopy import calc_stats\n",
    "\n",
    "stats = calc_stats(modelp)\n",
    "print(stats[[\"AIC\", \"BIC\", \"CFI\", \"TLI\", \"RMSEA\"]])"
   ]
  },
  {
   "cell_type": "markdown",
   "id": "8ec5de6b-3d41-4aca-8643-4d8d05df286f",
   "metadata": {},
   "source": [
    "Logistic Regression(dep:depression)"
   ]
  },
  {
   "cell_type": "code",
   "execution_count": 62,
   "id": "afef0474-9533-43e1-b69c-31ea07d74ce4",
   "metadata": {},
   "outputs": [
    {
     "name": "stdout",
     "output_type": "stream",
     "text": [
      "Optimization terminated successfully.\n",
      "         Current function value: 0.368194\n",
      "         Iterations 7\n"
     ]
    },
    {
     "data": {
      "text/html": [
       "<table class=\"simpletable\">\n",
       "<caption>Logit Regression Results</caption>\n",
       "<tr>\n",
       "  <th>Dep. Variable:</th>   <td>Depressed_prev_w</td> <th>  No. Observations:  </th>  <td>   947</td>  \n",
       "</tr>\n",
       "<tr>\n",
       "  <th>Model:</th>                 <td>Logit</td>      <th>  Df Residuals:      </th>  <td>   929</td>  \n",
       "</tr>\n",
       "<tr>\n",
       "  <th>Method:</th>                 <td>MLE</td>       <th>  Df Model:          </th>  <td>    17</td>  \n",
       "</tr>\n",
       "<tr>\n",
       "  <th>Date:</th>            <td>Thu, 04 Sep 2025</td> <th>  Pseudo R-squ.:     </th>  <td>0.1642</td>  \n",
       "</tr>\n",
       "<tr>\n",
       "  <th>Time:</th>                <td>22:13:49</td>     <th>  Log-Likelihood:    </th> <td> -348.68</td> \n",
       "</tr>\n",
       "<tr>\n",
       "  <th>converged:</th>             <td>True</td>       <th>  LL-Null:           </th> <td> -417.16</td> \n",
       "</tr>\n",
       "<tr>\n",
       "  <th>Covariance Type:</th>     <td>nonrobust</td>    <th>  LLR p-value:       </th> <td>8.462e-21</td>\n",
       "</tr>\n",
       "</table>\n",
       "<table class=\"simpletable\">\n",
       "<tr>\n",
       "             <td></td>               <th>coef</th>     <th>std err</th>      <th>z</th>      <th>P>|z|</th>  <th>[0.025</th>    <th>0.975]</th>  \n",
       "</tr>\n",
       "<tr>\n",
       "  <th>Intercept</th>              <td>    5.7633</td> <td>    1.404</td> <td>    4.104</td> <td> 0.000</td> <td>    3.011</td> <td>    8.516</td>\n",
       "</tr>\n",
       "<tr>\n",
       "  <th>Gender[T.1]</th>            <td>   -0.5914</td> <td>    0.217</td> <td>   -2.728</td> <td> 0.006</td> <td>   -1.016</td> <td>   -0.166</td>\n",
       "</tr>\n",
       "<tr>\n",
       "  <th>Mar_status[T.1]</th>        <td>    0.1714</td> <td>    0.201</td> <td>    0.853</td> <td> 0.394</td> <td>   -0.222</td> <td>    0.565</td>\n",
       "</tr>\n",
       "<tr>\n",
       "  <th>Job_status[T.1]</th>        <td>    0.2724</td> <td>    0.341</td> <td>    0.800</td> <td> 0.424</td> <td>   -0.395</td> <td>    0.940</td>\n",
       "</tr>\n",
       "<tr>\n",
       "  <th>Age</th>                    <td>   -0.0406</td> <td>    0.014</td> <td>   -2.832</td> <td> 0.005</td> <td>   -0.069</td> <td>   -0.013</td>\n",
       "</tr>\n",
       "<tr>\n",
       "  <th>Edu_years</th>              <td>   -0.0878</td> <td>    0.031</td> <td>   -2.829</td> <td> 0.005</td> <td>   -0.149</td> <td>   -0.027</td>\n",
       "</tr>\n",
       "<tr>\n",
       "  <th>Subjective_younger</th>     <td>    0.2623</td> <td>    0.217</td> <td>    1.211</td> <td> 0.226</td> <td>   -0.162</td> <td>    0.687</td>\n",
       "</tr>\n",
       "<tr>\n",
       "  <th>Rate_health</th>            <td>   -0.4886</td> <td>    0.131</td> <td>   -3.740</td> <td> 0.000</td> <td>   -0.745</td> <td>   -0.233</td>\n",
       "</tr>\n",
       "<tr>\n",
       "  <th>ADL</th>                    <td>    0.0777</td> <td>    0.089</td> <td>    0.878</td> <td> 0.380</td> <td>   -0.096</td> <td>    0.251</td>\n",
       "</tr>\n",
       "<tr>\n",
       "  <th>IADL</th>                   <td>    0.0974</td> <td>    0.104</td> <td>    0.935</td> <td> 0.350</td> <td>   -0.107</td> <td>    0.302</td>\n",
       "</tr>\n",
       "<tr>\n",
       "  <th>Distrust</th>               <td>    0.0419</td> <td>    0.095</td> <td>    0.443</td> <td> 0.658</td> <td>   -0.144</td> <td>    0.227</td>\n",
       "</tr>\n",
       "<tr>\n",
       "  <th>Ageism</th>                 <td>    0.2073</td> <td>    0.135</td> <td>    1.534</td> <td> 0.125</td> <td>   -0.058</td> <td>    0.472</td>\n",
       "</tr>\n",
       "<tr>\n",
       "  <th>Community_Satisfaction</th> <td>   -0.1527</td> <td>    0.072</td> <td>   -2.133</td> <td> 0.033</td> <td>   -0.293</td> <td>   -0.012</td>\n",
       "</tr>\n",
       "<tr>\n",
       "  <th>Attitude_aging</th>         <td>   -0.6206</td> <td>    0.125</td> <td>   -4.954</td> <td> 0.000</td> <td>   -0.866</td> <td>   -0.375</td>\n",
       "</tr>\n",
       "<tr>\n",
       "  <th>Volunteer</th>              <td>    0.0998</td> <td>    0.259</td> <td>    0.385</td> <td> 0.700</td> <td>   -0.409</td> <td>    0.608</td>\n",
       "</tr>\n",
       "<tr>\n",
       "  <th>Attend_Club</th>            <td>   -0.3765</td> <td>    0.237</td> <td>   -1.586</td> <td> 0.113</td> <td>   -0.842</td> <td>    0.089</td>\n",
       "</tr>\n",
       "<tr>\n",
       "  <th>Sport_Exercise</th>         <td>   -0.1378</td> <td>    0.231</td> <td>   -0.597</td> <td> 0.550</td> <td>   -0.590</td> <td>    0.315</td>\n",
       "</tr>\n",
       "<tr>\n",
       "  <th>WALK_20M</th>               <td>    0.4224</td> <td>    0.257</td> <td>    1.641</td> <td> 0.101</td> <td>   -0.082</td> <td>    0.927</td>\n",
       "</tr>\n",
       "</table>"
      ],
      "text/latex": [
       "\\begin{center}\n",
       "\\begin{tabular}{lclc}\n",
       "\\toprule\n",
       "\\textbf{Dep. Variable:}          & Depressed\\_prev\\_w & \\textbf{  No. Observations:  } &      947    \\\\\n",
       "\\textbf{Model:}                  &       Logit        & \\textbf{  Df Residuals:      } &      929    \\\\\n",
       "\\textbf{Method:}                 &        MLE         & \\textbf{  Df Model:          } &       17    \\\\\n",
       "\\textbf{Date:}                   &  Thu, 04 Sep 2025  & \\textbf{  Pseudo R-squ.:     } &   0.1642    \\\\\n",
       "\\textbf{Time:}                   &      22:13:49      & \\textbf{  Log-Likelihood:    } &   -348.68   \\\\\n",
       "\\textbf{converged:}              &        True        & \\textbf{  LL-Null:           } &   -417.16   \\\\\n",
       "\\textbf{Covariance Type:}        &     nonrobust      & \\textbf{  LLR p-value:       } & 8.462e-21   \\\\\n",
       "\\bottomrule\n",
       "\\end{tabular}\n",
       "\\begin{tabular}{lcccccc}\n",
       "                                 & \\textbf{coef} & \\textbf{std err} & \\textbf{z} & \\textbf{P$> |$z$|$} & \\textbf{[0.025} & \\textbf{0.975]}  \\\\\n",
       "\\midrule\n",
       "\\textbf{Intercept}               &       5.7633  &        1.404     &     4.104  &         0.000        &        3.011    &        8.516     \\\\\n",
       "\\textbf{Gender[T.1]}             &      -0.5914  &        0.217     &    -2.728  &         0.006        &       -1.016    &       -0.166     \\\\\n",
       "\\textbf{Mar\\_status[T.1]}        &       0.1714  &        0.201     &     0.853  &         0.394        &       -0.222    &        0.565     \\\\\n",
       "\\textbf{Job\\_status[T.1]}        &       0.2724  &        0.341     &     0.800  &         0.424        &       -0.395    &        0.940     \\\\\n",
       "\\textbf{Age}                     &      -0.0406  &        0.014     &    -2.832  &         0.005        &       -0.069    &       -0.013     \\\\\n",
       "\\textbf{Edu\\_years}              &      -0.0878  &        0.031     &    -2.829  &         0.005        &       -0.149    &       -0.027     \\\\\n",
       "\\textbf{Subjective\\_younger}     &       0.2623  &        0.217     &     1.211  &         0.226        &       -0.162    &        0.687     \\\\\n",
       "\\textbf{Rate\\_health}            &      -0.4886  &        0.131     &    -3.740  &         0.000        &       -0.745    &       -0.233     \\\\\n",
       "\\textbf{ADL}                     &       0.0777  &        0.089     &     0.878  &         0.380        &       -0.096    &        0.251     \\\\\n",
       "\\textbf{IADL}                    &       0.0974  &        0.104     &     0.935  &         0.350        &       -0.107    &        0.302     \\\\\n",
       "\\textbf{Distrust}                &       0.0419  &        0.095     &     0.443  &         0.658        &       -0.144    &        0.227     \\\\\n",
       "\\textbf{Ageism}                  &       0.2073  &        0.135     &     1.534  &         0.125        &       -0.058    &        0.472     \\\\\n",
       "\\textbf{Community\\_Satisfaction} &      -0.1527  &        0.072     &    -2.133  &         0.033        &       -0.293    &       -0.012     \\\\\n",
       "\\textbf{Attitude\\_aging}         &      -0.6206  &        0.125     &    -4.954  &         0.000        &       -0.866    &       -0.375     \\\\\n",
       "\\textbf{Volunteer}               &       0.0998  &        0.259     &     0.385  &         0.700        &       -0.409    &        0.608     \\\\\n",
       "\\textbf{Attend\\_Club}            &      -0.3765  &        0.237     &    -1.586  &         0.113        &       -0.842    &        0.089     \\\\\n",
       "\\textbf{Sport\\_Exercise}         &      -0.1378  &        0.231     &    -0.597  &         0.550        &       -0.590    &        0.315     \\\\\n",
       "\\textbf{WALK\\_20M}               &       0.4224  &        0.257     &     1.641  &         0.101        &       -0.082    &        0.927     \\\\\n",
       "\\bottomrule\n",
       "\\end{tabular}\n",
       "%\\caption{Logit Regression Results}\n",
       "\\end{center}"
      ],
      "text/plain": [
       "<class 'statsmodels.iolib.summary.Summary'>\n",
       "\"\"\"\n",
       "                           Logit Regression Results                           \n",
       "==============================================================================\n",
       "Dep. Variable:       Depressed_prev_w   No. Observations:                  947\n",
       "Model:                          Logit   Df Residuals:                      929\n",
       "Method:                           MLE   Df Model:                           17\n",
       "Date:                Thu, 04 Sep 2025   Pseudo R-squ.:                  0.1642\n",
       "Time:                        22:13:49   Log-Likelihood:                -348.68\n",
       "converged:                       True   LL-Null:                       -417.16\n",
       "Covariance Type:            nonrobust   LLR p-value:                 8.462e-21\n",
       "==========================================================================================\n",
       "                             coef    std err          z      P>|z|      [0.025      0.975]\n",
       "------------------------------------------------------------------------------------------\n",
       "Intercept                  5.7633      1.404      4.104      0.000       3.011       8.516\n",
       "Gender[T.1]               -0.5914      0.217     -2.728      0.006      -1.016      -0.166\n",
       "Mar_status[T.1]            0.1714      0.201      0.853      0.394      -0.222       0.565\n",
       "Job_status[T.1]            0.2724      0.341      0.800      0.424      -0.395       0.940\n",
       "Age                       -0.0406      0.014     -2.832      0.005      -0.069      -0.013\n",
       "Edu_years                 -0.0878      0.031     -2.829      0.005      -0.149      -0.027\n",
       "Subjective_younger         0.2623      0.217      1.211      0.226      -0.162       0.687\n",
       "Rate_health               -0.4886      0.131     -3.740      0.000      -0.745      -0.233\n",
       "ADL                        0.0777      0.089      0.878      0.380      -0.096       0.251\n",
       "IADL                       0.0974      0.104      0.935      0.350      -0.107       0.302\n",
       "Distrust                   0.0419      0.095      0.443      0.658      -0.144       0.227\n",
       "Ageism                     0.2073      0.135      1.534      0.125      -0.058       0.472\n",
       "Community_Satisfaction    -0.1527      0.072     -2.133      0.033      -0.293      -0.012\n",
       "Attitude_aging            -0.6206      0.125     -4.954      0.000      -0.866      -0.375\n",
       "Volunteer                  0.0998      0.259      0.385      0.700      -0.409       0.608\n",
       "Attend_Club               -0.3765      0.237     -1.586      0.113      -0.842       0.089\n",
       "Sport_Exercise            -0.1378      0.231     -0.597      0.550      -0.590       0.315\n",
       "WALK_20M                   0.4224      0.257      1.641      0.101      -0.082       0.927\n",
       "==========================================================================================\n",
       "\"\"\""
      ]
     },
     "execution_count": 62,
     "metadata": {},
     "output_type": "execute_result"
    }
   ],
   "source": [
    "dt_linear_reg_lon[\"Depressed_prev_w\"] = dt_linear_reg_lon[\"Depressed_prev_w\"].astype(int)\n",
    "modlogit1 = logit('Depressed_prev_w ~ Age + Gender + Edu_years + Mar_status + Job_status + Subjective_younger + Rate_health + ADL + IADL + Distrust + Ageism + Community_Satisfaction + Attitude_aging + Volunteer + Attend_Club + Sport_Exercise + WALK_20M',\n",
    "                  data = dt_linear_reg_lon).fit()\n",
    "modlogit1.summary()"
   ]
  },
  {
   "cell_type": "code",
   "execution_count": 63,
   "id": "0a243e73-cccb-4e73-ad32-4cbf3418ca71",
   "metadata": {},
   "outputs": [
    {
     "data": {
      "text/plain": [
       "Intercept                318.3952\n",
       "Gender[T.1]                0.5536\n",
       "Mar_status[T.1]            1.1870\n",
       "Job_status[T.1]            1.3132\n",
       "Age                        0.9602\n",
       "Edu_years                  0.9159\n",
       "Subjective_younger         1.3000\n",
       "Rate_health                0.6135\n",
       "ADL                        1.0808\n",
       "IADL                       1.1023\n",
       "Distrust                   1.0428\n",
       "Ageism                     1.2304\n",
       "Community_Satisfaction     0.8584\n",
       "Attitude_aging             0.5376\n",
       "Volunteer                  1.1049\n",
       "Attend_Club                0.6863\n",
       "Sport_Exercise             0.8712\n",
       "WALK_20M                   1.5255\n",
       "dtype: float64"
      ]
     },
     "execution_count": 63,
     "metadata": {},
     "output_type": "execute_result"
    }
   ],
   "source": [
    "np.exp(modlogit1.params)"
   ]
  },
  {
   "cell_type": "markdown",
   "id": "863f3b97-2a73-48fe-8a04-c7a17dd6e378",
   "metadata": {},
   "source": [
    "Prediction"
   ]
  },
  {
   "cell_type": "code",
   "execution_count": 64,
   "id": "805e8089-08e8-4c17-b439-cb79eb5ca499",
   "metadata": {},
   "outputs": [],
   "source": [
    "## Target\n",
    "target = \"Depressed_prev_w\"\n",
    "\n",
    "## Predictors\n",
    "predictors = [\n",
    "    \"Age\", \"Gender\", \"Edu_years\", \"Mar_status\", \"Job_status\", \"Subjective_younger\", \"Rate_health\",\n",
    "    \"ADL\", \"IADL\", \"Distrust\", \"Ageism\", \"Community_Satisfaction\", \"Attitude_aging\", \n",
    "    \"Volunteer\", \"Attend_Club\", \"Sport_Exercise\", \"WALK_20M\", \"Ever_had_depression\"\n",
    "]\n",
    "\n",
    "dat_pred = dt_linear_reg_lon[[target] + predictors]\n",
    "y = dat_pred[target]\n",
    "X = dat_pred[predictors]\n",
    "\n",
    "X_train, X_test, y_train, y_test = train_test_split(\n",
    "    X, y, test_size=0.3, stratify=y, random_state=12345\n",
    ")"
   ]
  },
  {
   "cell_type": "code",
   "execution_count": 65,
   "id": "d920ea65-a6b5-4ae6-8162-316a4f5ab389",
   "metadata": {},
   "outputs": [
    {
     "name": "stdout",
     "output_type": "stream",
     "text": [
      "Confusion Matrix - Linear Regression:\n",
      " [[234   5]\n",
      " [ 38   8]]\n",
      "Accuracy - Linear Regression: 0.849\n",
      "Classification Report - Linear Regression (Test):\n",
      "               precision    recall  f1-score   support\n",
      "\n",
      "           0       0.86      0.98      0.92       239\n",
      "           1       0.62      0.17      0.27        46\n",
      "\n",
      "    accuracy                           0.85       285\n",
      "   macro avg       0.74      0.58      0.59       285\n",
      "weighted avg       0.82      0.85      0.81       285\n",
      "\n"
     ]
    },
    {
     "data": {
      "image/png": "[encoded data removed]",
      "text/plain": [
       "<Figure size 640x480 with 2 Axes>"
      ]
     },
     "metadata": {},
     "output_type": "display_data"
    }
   ],
   "source": [
    "linreg = LinearRegression()\n",
    "linreg.fit(X_train, y_train)\n",
    "\n",
    "y_pred_cont = linreg.predict(X_test)\n",
    "y_pred_linreg = [1 if i > 0.5 else 0 for i in y_pred_cont]\n",
    "\n",
    "cm_linreg = confusion_matrix(y_test, y_pred_linreg)\n",
    "acc_linreg = accuracy_score(y_test, y_pred_linreg)\n",
    "\n",
    "print(\"Confusion Matrix - Linear Regression:\\n\", cm_linreg)\n",
    "print(\"Accuracy - Linear Regression:\", round(acc_linreg, 3))\n",
    "print(\"Classification Report - Linear Regression (Test):\\n\", classification_report(y_test, y_pred_linreg))\n",
    "ConfusionMatrixDisplay.from_predictions(y_test, y_pred_linreg,\n",
    "                                        cmap=plt.cm.Blues, normalize='true')\n",
    "plt.show()"
   ]
  },
  {
   "cell_type": "code",
   "execution_count": 66,
   "id": "5e33c2e6-3ccb-47c8-83e8-1acda17e504a",
   "metadata": {},
   "outputs": [
    {
     "name": "stdout",
     "output_type": "stream",
     "text": [
      "Confusion Matrix - Logistic Regression:\n",
      " [[225  14]\n",
      " [ 32  14]]\n",
      "Accuracy - Logistic Regression: 0.839\n",
      "Classification Report - Logistic Regression (Test):\n",
      "               precision    recall  f1-score   support\n",
      "\n",
      "           0       0.88      0.94      0.91       239\n",
      "           1       0.50      0.30      0.38        46\n",
      "\n",
      "    accuracy                           0.84       285\n",
      "   macro avg       0.69      0.62      0.64       285\n",
      "weighted avg       0.81      0.84      0.82       285\n",
      "\n"
     ]
    },
    {
     "data": {
      "image/png": "[encoded data removed]",
      "text/plain": [
       "<Figure size 640x480 with 2 Axes>"
      ]
     },
     "metadata": {},
     "output_type": "display_data"
    }
   ],
   "source": [
    "logreg  = LogisticRegression(max_iter=10000)\n",
    "logreg.fit(X_train, y_train)\n",
    "\n",
    "y_pred_prob = logreg.predict_proba(X_test)[:, 1]\n",
    "y_pred_logreg = [1 if i > 0.5 else 0 for i in y_pred_prob]\n",
    "\n",
    "cm_logreg = confusion_matrix(y_test, y_pred_logreg)\n",
    "acc_logreg = accuracy_score(y_test, y_pred_logreg)\n",
    "\n",
    "print(\"Confusion Matrix - Logistic Regression:\\n\", cm_logreg)\n",
    "print(\"Accuracy - Logistic Regression:\", round(acc_logreg, 3))\n",
    "print(\"Classification Report - Logistic Regression (Test):\\n\", classification_report(y_test, y_pred_logreg))\n",
    "ConfusionMatrixDisplay.from_predictions(y_test, y_pred_logreg,\n",
    "                                        cmap=plt.cm.Blues, normalize='true')\n",
    "plt.show()"
   ]
  },
  {
   "cell_type": "code",
   "execution_count": 67,
   "id": "4c37d957-3fe3-4149-9645-5fc589b39ffa",
   "metadata": {},
   "outputs": [
    {
     "name": "stdout",
     "output_type": "stream",
     "text": [
      "Confusion Matrix - LDA:\n",
      " [[221  18]\n",
      " [ 29  17]]\n",
      "Accuracy - LDA: 0.835\n",
      "Classification Report - LDA (Test):\n",
      "               precision    recall  f1-score   support\n",
      "\n",
      "           0       0.88      0.92      0.90       239\n",
      "           1       0.49      0.37      0.42        46\n",
      "\n",
      "    accuracy                           0.84       285\n",
      "   macro avg       0.68      0.65      0.66       285\n",
      "weighted avg       0.82      0.84      0.83       285\n",
      "\n"
     ]
    },
    {
     "data": {
      "image/png": "[encoded data removed]",
      "text/plain": [
       "<Figure size 640x480 with 2 Axes>"
      ]
     },
     "metadata": {},
     "output_type": "display_data"
    }
   ],
   "source": [
    "lda = LinearDiscriminantAnalysis()\n",
    "lda.fit(X_train, y_train)\n",
    "\n",
    "y_pred_lda = lda.predict(X_test)\n",
    "\n",
    "cm_lda = confusion_matrix(y_test, y_pred_lda)\n",
    "acc_lda = accuracy_score(y_test, y_pred_lda)\n",
    "\n",
    "print(\"Confusion Matrix - LDA:\\n\", cm_lda)\n",
    "print(\"Accuracy - LDA:\", round(acc_lda, 3))\n",
    "print(\"Classification Report - LDA (Test):\\n\", classification_report(y_test, y_pred_lda))\n",
    "ConfusionMatrixDisplay.from_predictions(y_test, y_pred_lda,\n",
    "                                        cmap=plt.cm.Blues, normalize='true')\n",
    "plt.show()"
   ]
  },
  {
   "cell_type": "code",
   "execution_count": 68,
   "id": "a0fd6654-2daf-4edb-8a65-d42f1416d8de",
   "metadata": {},
   "outputs": [
    {
     "name": "stdout",
     "output_type": "stream",
     "text": [
      "Confusion Matrix - Naive Bayes:\n",
      " [[208  31]\n",
      " [ 20  26]]\n",
      "Accuracy - Naive Bayes: 0.821\n",
      "Classification Report - Naive Bayes (Test):\n",
      "               precision    recall  f1-score   support\n",
      "\n",
      "           0       0.91      0.87      0.89       239\n",
      "           1       0.46      0.57      0.50        46\n",
      "\n",
      "    accuracy                           0.82       285\n",
      "   macro avg       0.68      0.72      0.70       285\n",
      "weighted avg       0.84      0.82      0.83       285\n",
      "\n"
     ]
    },
    {
     "data": {
      "image/png": "[encoded data removed]",
      "text/plain": [
       "<Figure size 640x480 with 2 Axes>"
      ]
     },
     "metadata": {},
     "output_type": "display_data"
    }
   ],
   "source": [
    "nb = GaussianNB()\n",
    "nb.fit(X_train, y_train)\n",
    "\n",
    "y_pred_nb = nb.predict(X_test)\n",
    "\n",
    "cm_nb = confusion_matrix(y_test, y_pred_nb)\n",
    "acc_nb = accuracy_score(y_test, y_pred_nb)\n",
    "\n",
    "print(\"Confusion Matrix - Naive Bayes:\\n\", cm_nb)\n",
    "print(\"Accuracy - Naive Bayes:\", round(acc_nb, 3))\n",
    "print(\"Classification Report - Naive Bayes (Test):\\n\", classification_report(y_test, y_pred_nb))\n",
    "ConfusionMatrixDisplay.from_predictions(y_test, y_pred_nb,\n",
    "                                        cmap=plt.cm.Blues, normalize='true')\n",
    "plt.show()"
   ]
  },
  {
   "cell_type": "code",
   "execution_count": 69,
   "id": "f2b1eeff-28a8-46f2-8073-feb8ec8fb742",
   "metadata": {},
   "outputs": [
    {
     "data": {
      "image/png": "[encoded data removed]",
      "text/plain": [
       "<Figure size 1000x1000 with 1 Axes>"
      ]
     },
     "metadata": {},
     "output_type": "display_data"
    }
   ],
   "source": [
    "# --- 計算 \"feature importance\" ---\n",
    "if nb.theta_.shape[0] == 2:  # 二元分類\n",
    "    importances_values = np.abs(nb.theta_[0] - nb.theta_[1])\n",
    "else: \n",
    "    importances_values = np.var(nb.theta_, axis=0)\n",
    "\n",
    "importances = pd.Series(data=importances_values,\n",
    "                        index=X_train.columns)\n",
    "\n",
    "importances_sorted = importances.sort_values()\n",
    "\n",
    "fig = plt.figure(figsize=(10,10))\n",
    "importances_sorted.plot(kind='barh', color='lightgreen')\n",
    "plt.title('Feature Importances (GaussianNB)')\n",
    "plt.show()"
   ]
  },
  {
   "cell_type": "code",
   "execution_count": 70,
   "id": "30cbb259-6afb-4c9e-9d5e-4e2f06c6e6c5",
   "metadata": {},
   "outputs": [
    {
     "name": "stdout",
     "output_type": "stream",
     "text": [
      "Confusion Matrix - KNN:\n",
      " [[236   3]\n",
      " [ 44   2]]\n",
      "Accuracy - KNN: 0.835\n",
      "Classification Report - KNN (Test):\n",
      "               precision    recall  f1-score   support\n",
      "\n",
      "           0       0.84      0.99      0.91       239\n",
      "           1       0.40      0.04      0.08        46\n",
      "\n",
      "    accuracy                           0.84       285\n",
      "   macro avg       0.62      0.52      0.49       285\n",
      "weighted avg       0.77      0.84      0.78       285\n",
      "\n"
     ]
    },
    {
     "data": {
      "image/png": "[encoded data removed]",
      "text/plain": [
       "<Figure size 640x480 with 2 Axes>"
      ]
     },
     "metadata": {},
     "output_type": "display_data"
    }
   ],
   "source": [
    "knn = KNeighborsClassifier(n_neighbors=10)\n",
    "knn.fit(X_train, y_train)\n",
    "\n",
    "y_pred_knn = knn.predict(X_test)\n",
    "\n",
    "cm_knn = confusion_matrix(y_test, y_pred_knn)\n",
    "acc_knn = accuracy_score(y_test, y_pred_knn)\n",
    "\n",
    "print(\"Confusion Matrix - KNN:\\n\", cm_knn)\n",
    "print(\"Accuracy - KNN:\", round(acc_knn, 3))\n",
    "print(\"Classification Report - KNN (Test):\\n\", classification_report(y_test, y_pred_knn))\n",
    "ConfusionMatrixDisplay.from_predictions(y_test, y_pred_knn,\n",
    "                                        cmap=plt.cm.Blues, normalize='true')\n",
    "plt.show()"
   ]
  },
  {
   "cell_type": "code",
   "execution_count": 71,
   "id": "c8ee39d7-13c1-43fe-ad3c-5e1f25e7d5c6",
   "metadata": {},
   "outputs": [
    {
     "name": "stdout",
     "output_type": "stream",
     "text": [
      "Confusion Matrix - Lasso Logistic Regression:\n",
      " [[227  12]\n",
      " [ 33  13]]\n",
      "Accuracy - Lasso Logistic Regression: 0.842\n",
      "Classification Report - Lasso Logistic Regression (Test):\n",
      "               precision    recall  f1-score   support\n",
      "\n",
      "           0       0.87      0.95      0.91       239\n",
      "           1       0.52      0.28      0.37        46\n",
      "\n",
      "    accuracy                           0.84       285\n",
      "   macro avg       0.70      0.62      0.64       285\n",
      "weighted avg       0.82      0.84      0.82       285\n",
      "\n"
     ]
    },
    {
     "data": {
      "image/png": "[encoded data removed]",
      "text/plain": [
       "<Figure size 640x480 with 2 Axes>"
      ]
     },
     "metadata": {},
     "output_type": "display_data"
    }
   ],
   "source": [
    "logreg_lasso = LogisticRegression(penalty='l1', solver='liblinear', max_iter=10000)\n",
    "logreg_lasso.fit(X_train, y_train)\n",
    "\n",
    "y_pred_logreglasso = logreg_lasso.predict(X_test)\n",
    "cm_lasso = confusion_matrix(y_test, y_pred_logreglasso)\n",
    "acc_lasso = accuracy_score(y_test, y_pred_logreglasso)\n",
    "\n",
    "print(\"Confusion Matrix - Lasso Logistic Regression:\\n\", cm_lasso)\n",
    "print(\"Accuracy - Lasso Logistic Regression:\", round(acc_lasso, 3))\n",
    "print(\"Classification Report - Lasso Logistic Regression (Test):\\n\", classification_report(y_test, y_pred_logreglasso))\n",
    "ConfusionMatrixDisplay.from_predictions(y_test, y_pred_logreglasso,\n",
    "                                        cmap=plt.cm.Blues, normalize='true')\n",
    "plt.show()"
   ]
  },
  {
   "cell_type": "code",
   "execution_count": 72,
   "id": "1bfdb3a0-44a4-4c20-b0fe-ad55075afd1f",
   "metadata": {},
   "outputs": [
    {
     "name": "stdout",
     "output_type": "stream",
     "text": [
      "Confusion Matrix - Ridge Logistic Regression:\n",
      " [[226  13]\n",
      " [ 33  13]]\n",
      "Accuracy - Ridge Logistic Regression: 0.839\n",
      "Classification Report - Ridge Logistic Regression (Test):\n",
      "               precision    recall  f1-score   support\n",
      "\n",
      "           0       0.87      0.95      0.91       239\n",
      "           1       0.50      0.28      0.36        46\n",
      "\n",
      "    accuracy                           0.84       285\n",
      "   macro avg       0.69      0.61      0.63       285\n",
      "weighted avg       0.81      0.84      0.82       285\n",
      "\n"
     ]
    },
    {
     "data": {
      "image/png": "[encoded data removed]",
      "text/plain": [
       "<Figure size 640x480 with 2 Axes>"
      ]
     },
     "metadata": {},
     "output_type": "display_data"
    }
   ],
   "source": [
    "logreg_ridge = LogisticRegression(penalty='l2', solver='liblinear', max_iter=10000)\n",
    "logreg_ridge.fit(X_train, y_train)\n",
    "\n",
    "y_pred_logregridge = logreg_ridge.predict(X_test)\n",
    "cm_ridge = confusion_matrix(y_test, y_pred_logregridge)\n",
    "acc_ridge = accuracy_score(y_test, y_pred_logregridge)\n",
    "\n",
    "print(\"Confusion Matrix - Ridge Logistic Regression:\\n\", cm_ridge)\n",
    "print(\"Accuracy - Ridge Logistic Regression:\", round(acc_ridge, 3))\n",
    "print(\"Classification Report - Ridge Logistic Regression (Test):\\n\", classification_report(y_test, y_pred_logregridge))\n",
    "ConfusionMatrixDisplay.from_predictions(y_test, y_pred_logregridge,\n",
    "                                        cmap=plt.cm.Blues, normalize='true')\n",
    "plt.show()"
   ]
  },
  {
   "cell_type": "code",
   "execution_count": 73,
   "id": "b3f89252-04ad-4bcd-ae16-94c52e369dbe",
   "metadata": {},
   "outputs": [
    {
     "name": "stdout",
     "output_type": "stream",
     "text": [
      "Bagging Confusion Matrix:\n",
      " [[233   6]\n",
      " [ 31  15]]\n",
      "Bagging Accuracy: 0.87\n",
      "Classification Report - Bagging (Test):\n",
      "               precision    recall  f1-score   support\n",
      "\n",
      "           0       0.88      0.97      0.93       239\n",
      "           1       0.71      0.33      0.45        46\n",
      "\n",
      "    accuracy                           0.87       285\n",
      "   macro avg       0.80      0.65      0.69       285\n",
      "weighted avg       0.86      0.87      0.85       285\n",
      "\n"
     ]
    },
    {
     "data": {
      "image/png": "[encoded data removed]",
      "text/plain": [
       "<Figure size 640x480 with 2 Axes>"
      ]
     },
     "metadata": {},
     "output_type": "display_data"
    }
   ],
   "source": [
    "bagging = BaggingClassifier(\n",
    "    estimator=DecisionTreeClassifier(),\n",
    "    n_estimators=100,\n",
    "    random_state=123\n",
    ")\n",
    "bagging.fit(X_train, y_train)\n",
    "y_pred_bagging = bagging.predict(X_test)\n",
    "\n",
    "cm_bagging = confusion_matrix(y_test, y_pred_bagging)\n",
    "acc_bagging = accuracy_score(y_test, y_pred_bagging)\n",
    "\n",
    "print(\"Bagging Confusion Matrix:\\n\", cm_bagging)\n",
    "print(\"Bagging Accuracy:\", round(acc_bagging, 3))\n",
    "print(\"Classification Report - Bagging (Test):\\n\", classification_report(y_test, y_pred_bagging))\n",
    "ConfusionMatrixDisplay.from_predictions(y_test, y_pred_bagging,\n",
    "                                        cmap=plt.cm.Blues, normalize='true')\n",
    "plt.show()"
   ]
  },
  {
   "cell_type": "code",
   "execution_count": 74,
   "id": "4fca2bca-44a5-4891-b53a-0ad2bf7538e7",
   "metadata": {},
   "outputs": [
    {
     "name": "stdout",
     "output_type": "stream",
     "text": [
      "Random Forest Confusion Matrix:\n",
      " [[235   4]\n",
      " [ 36  10]]\n",
      "Random Forest Accuracy: 0.86\n",
      "Classification Report - Random Forest (Test):\n",
      "               precision    recall  f1-score   support\n",
      "\n",
      "           0       0.87      0.98      0.92       239\n",
      "           1       0.71      0.22      0.33        46\n",
      "\n",
      "    accuracy                           0.86       285\n",
      "   macro avg       0.79      0.60      0.63       285\n",
      "weighted avg       0.84      0.86      0.83       285\n",
      "\n"
     ]
    },
    {
     "data": {
      "image/png": "[encoded data removed]",
      "text/plain": [
       "<Figure size 640x480 with 2 Axes>"
      ]
     },
     "metadata": {},
     "output_type": "display_data"
    }
   ],
   "source": [
    "rf = RandomForestClassifier(n_estimators=100, random_state=123)\n",
    "rf.fit(X_train, y_train)\n",
    "y_pred_rf = rf.predict(X_test)\n",
    "\n",
    "cm_rf = confusion_matrix(y_test, y_pred_rf)\n",
    "acc_rf = accuracy_score(y_test, y_pred_rf)\n",
    "\n",
    "print(\"Random Forest Confusion Matrix:\\n\", cm_rf)\n",
    "print(\"Random Forest Accuracy:\", round(acc_rf, 3))\n",
    "print(\"Classification Report - Random Forest (Test):\\n\", classification_report(y_test, y_pred_rf))\n",
    "ConfusionMatrixDisplay.from_predictions(y_test, y_pred_rf,\n",
    "                                        cmap=plt.cm.Blues, normalize='true')\n",
    "plt.show()"
   ]
  },
  {
   "cell_type": "code",
   "execution_count": 75,
   "id": "8a55f2bd-62c4-49f0-bfd3-47b4e9e23b20",
   "metadata": {},
   "outputs": [
    {
     "name": "stdout",
     "output_type": "stream",
     "text": [
      "AdaBoost Confusion Matrix:\n",
      " [[223  16]\n",
      " [ 32  14]]\n",
      "AdaBoost Accuracy: 0.832\n",
      "Classification Report - AdaBoost (Test):\n",
      "               precision    recall  f1-score   support\n",
      "\n",
      "           0       0.87      0.93      0.90       239\n",
      "           1       0.47      0.30      0.37        46\n",
      "\n",
      "    accuracy                           0.83       285\n",
      "   macro avg       0.67      0.62      0.64       285\n",
      "weighted avg       0.81      0.83      0.82       285\n",
      "\n"
     ]
    },
    {
     "name": "stderr",
     "output_type": "stream",
     "text": [
      "C:\\Users\\User\\AppData\\Local\\Programs\\Python\\Python312\\Lib\\site-packages\\sklearn\\ensemble\\_weight_boosting.py:527: FutureWarning: The SAMME.R algorithm (the default) is deprecated and will be removed in 1.6. Use the SAMME algorithm to circumvent this warning.\n",
      "  warnings.warn(\n"
     ]
    },
    {
     "data": {
      "image/png": "[encoded data removed]",
      "text/plain": [
       "<Figure size 640x480 with 2 Axes>"
      ]
     },
     "metadata": {},
     "output_type": "display_data"
    }
   ],
   "source": [
    "adaboost = AdaBoostClassifier(n_estimators=100, random_state=123)\n",
    "adaboost.fit(X_train, y_train)\n",
    "y_pred_adaboost = adaboost.predict(X_test)\n",
    "\n",
    "cm_adaboost = confusion_matrix(y_test, y_pred_adaboost)\n",
    "acc_adaboost = accuracy_score(y_test, y_pred_adaboost)\n",
    "\n",
    "print(\"AdaBoost Confusion Matrix:\\n\", cm_adaboost)\n",
    "print(\"AdaBoost Accuracy:\", round(acc_adaboost, 3))\n",
    "print(\"Classification Report - AdaBoost (Test):\\n\", classification_report(y_test, y_pred_adaboost))\n",
    "ConfusionMatrixDisplay.from_predictions(y_test, y_pred_adaboost,\n",
    "                                        cmap=plt.cm.Blues, normalize='true')\n",
    "plt.show()"
   ]
  },
  {
   "cell_type": "code",
   "execution_count": 76,
   "id": "e62c072e-4c04-4389-97f8-495f183da97f",
   "metadata": {},
   "outputs": [
    {
     "name": "stdout",
     "output_type": "stream",
     "text": [
      "Epoch [5/20], Loss: 0.5632, Train Accuracy: 0.8399\n",
      "Epoch [10/20], Loss: 0.4555, Train Accuracy: 0.8399\n",
      "Epoch [15/20], Loss: 0.4410, Train Accuracy: 0.8399\n",
      "Epoch [20/20], Loss: 0.4397, Train Accuracy: 0.8399\n",
      "Test accuracy: 0.8385964632034302\n"
     ]
    },
    {
     "data": {
      "image/png": "[encoded data removed]",
      "text/plain": [
       "<Figure size 1200x500 with 2 Axes>"
      ]
     },
     "metadata": {},
     "output_type": "display_data"
    }
   ],
   "source": [
    "import pandas as pd\n",
    "import torch\n",
    "import torch.nn as nn\n",
    "import torch.optim as optim\n",
    "from sklearn.model_selection import train_test_split\n",
    "import matplotlib.pyplot as plt\n",
    "\n",
    "## Target\n",
    "target = \"Depressed_prev_w\"\n",
    "\n",
    "## Predictors\n",
    "predictors = [\n",
    "    \"Age\", \"Gender\", \"Edu_years\", \"Mar_status\", \"Job_status\", \"Subjective_younger\", \"Rate_health\",\n",
    "    \"ADL\", \"IADL\", \"Distrust\", \"Ageism\", \"Community_Satisfaction\", \"Attitude_aging\", \n",
    "    \"Volunteer\", \"Attend_Club\", \"Sport_Exercise\", \"WALK_20M\", \"Ever_had_depression\"\n",
    "]\n",
    "\n",
    "\n",
    "dat_pred = dt_linear_reg_lon[[target] + predictors]\n",
    "\n",
    "\n",
    "categorical_cols = [\n",
    "    \"Gender\", \"Mar_status\", \"Job_status\", \"Subjective_younger\",\n",
    "    \"Volunteer\", \"Attend_Club\", \"Sport_Exercise\", \"WALK_20M\", \"Ever_had_depression\"\n",
    "]\n",
    "dat_pred = pd.get_dummies(dat_pred, columns=categorical_cols, drop_first=True)\n",
    "\n",
    "\n",
    "y = dat_pred[target]\n",
    "X = dat_pred.drop(columns=[target])\n",
    "\n",
    "\n",
    "X = X.astype(\"float32\")\n",
    "y = y.astype(\"float32\")\n",
    "\n",
    "\n",
    "X_train, X_test, y_train, y_test = train_test_split(\n",
    "    X, y, test_size=0.3, stratify=y, random_state=12345\n",
    ")\n",
    "\n",
    "\n",
    "X_train = torch.tensor(X_train.values, dtype=torch.float32)\n",
    "y_train = torch.tensor(y_train.values, dtype=torch.float32).view(-1, 1)\n",
    "X_test = torch.tensor(X_test.values, dtype=torch.float32)\n",
    "y_test = torch.tensor(y_test.values, dtype=torch.float32).view(-1, 1)\n",
    "\n",
    "\n",
    "class SimpleNN(nn.Module):\n",
    "    def __init__(self, input_dim):\n",
    "        super(SimpleNN, self).__init__()\n",
    "        self.fc1 = nn.Linear(input_dim, 10)\n",
    "        self.fc2 = nn.Linear(10, 10)\n",
    "        self.fc3 = nn.Linear(10, 1)\n",
    "        self.relu = nn.ReLU()\n",
    "        \n",
    "    def forward(self, x):\n",
    "        x = self.relu(self.fc1(x))\n",
    "        x = self.relu(self.fc2(x))\n",
    "        x = self.fc3(x)  \n",
    "        return x\n",
    "\n",
    "model = SimpleNN(X_train.shape[1])\n",
    "\n",
    "\n",
    "criterion = nn.BCEWithLogitsLoss()\n",
    "optimizer = optim.SGD(model.parameters(), lr=0.01)\n",
    "\n",
    "epochs = 20\n",
    "losses = []\n",
    "train_accs = []\n",
    "\n",
    "for epoch in range(epochs):\n",
    "    outputs = model(X_train)\n",
    "    loss = criterion(outputs, y_train)\n",
    "\n",
    "    optimizer.zero_grad()\n",
    "    loss.backward()\n",
    "    optimizer.step()\n",
    "\n",
    "    \n",
    "    losses.append(loss.item())\n",
    "\n",
    "\n",
    "    with torch.no_grad():\n",
    "        y_pred_train = torch.sigmoid(model(X_train))\n",
    "        y_pred_classes_train = (y_pred_train > 0.5).float()\n",
    "        train_acc = (y_pred_classes_train.eq(y_train).sum() / y_train.shape[0]).item()\n",
    "        train_accs.append(train_acc)\n",
    "\n",
    "    if (epoch+1) % 5 == 0:\n",
    "        print(f\"Epoch [{epoch+1}/{epochs}], Loss: {loss.item():.4f}, Train Accuracy: {train_acc:.4f}\")\n",
    "\n",
    "with torch.no_grad():\n",
    "    y_pred = torch.sigmoid(model(X_test))\n",
    "    y_pred_classes = (y_pred > 0.5).float()\n",
    "    accuracy = (y_pred_classes.eq(y_test).sum() / y_test.shape[0]).item()\n",
    "\n",
    "print(\"Test accuracy:\", accuracy)\n",
    "\n",
    "plt.figure(figsize=(12,5))\n",
    "\n",
    "plt.subplot(1,2,1)\n",
    "plt.plot(range(1, epochs+1), losses, marker='o')\n",
    "plt.title(\"Training Loss\")\n",
    "plt.xlabel(\"Epoch\")\n",
    "plt.ylabel(\"Loss\")\n",
    "\n",
    "plt.subplot(1,2,2)\n",
    "plt.plot(range(1, epochs+1), train_accs, marker='o')\n",
    "plt.title(\"Training Accuracy\")\n",
    "plt.xlabel(\"Epoch\")\n",
    "plt.ylabel(\"Accuracy\")\n",
    "\n",
    "plt.tight_layout()\n",
    "plt.show()\n"
   ]
  }
 ],
 "metadata": {
  "kernelspec": {
   "display_name": "Python 3 (ipykernel)",
   "language": "python",
   "name": "python3"
  },
  "language_info": {
   "codemirror_mode": {
    "name": "ipython",
    "version": 3
   },
   "file_extension": ".py",
   "mimetype": "text/x-python",
   "name": "python",
   "nbconvert_exporter": "python",
   "pygments_lexer": "ipython3",
   "version": "3.12.4"
  }
 },
 "nbformat": 4,
 "nbformat_minor": 5
}
